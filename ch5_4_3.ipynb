{
 "cells": [
  {
   "cell_type": "code",
   "execution_count": 1,
   "id": "9494cf27-ce35-49ee-928c-2b8e94df7d98",
   "metadata": {},
   "outputs": [],
   "source": [
    "# visualizing heatmaps of class activation in an image."
   ]
  },
  {
   "cell_type": "code",
   "execution_count": 2,
   "id": "4364b539-4a99-4b02-ac50-151260e1097d",
   "metadata": {},
   "outputs": [],
   "source": [
    "# useful for understanding which parts of a given image led a convnet\n",
    "# to its final classification decision."
   ]
  },
  {
   "cell_type": "code",
   "execution_count": 3,
   "id": "bda24689-6f7a-4ff6-8c6b-fd577bfe1f19",
   "metadata": {},
   "outputs": [],
   "source": [
    "# This general category of techniques is called class activation map (CAM) visualization,\n",
    "# and it consists of producing heatmaps of class activation over input images.\n",
    "# A class activation heatmap is a 2D grid of scores associated with a specific output class,\n",
    "# computed for every location in any input image,\n",
    "# indicating how important each location is with respect to the class under consideration."
   ]
  },
  {
   "cell_type": "code",
   "execution_count": 4,
   "id": "e33427e9-ca41-41cb-a7b7-e90a0f80685a",
   "metadata": {},
   "outputs": [],
   "source": [
    "# The specific implementation you'll use is the one described in \n",
    "# \"Grad-CAM\": Visual Explanations from Deep Networks via Gradient-based Localization.\"\n",
    "# It's very simple: it consists of taking the output feature map of a convolution layer,\n",
    "# given an input image, and weighing every channel in that feature map\n",
    "# by the gradient of the class with respect to the channel."
   ]
  },
  {
   "cell_type": "code",
   "execution_count": 5,
   "id": "51cb1b94-16f5-44c9-8a97-ed743a9a0dd0",
   "metadata": {},
   "outputs": [],
   "source": [
    "import tensorflow as tf\n",
    "\n",
    "\n",
    "tf.compat.v1.disable_eager_execution()"
   ]
  },
  {
   "cell_type": "code",
   "execution_count": 6,
   "id": "a8e497d1-3993-4e1f-aeff-432bdf1230ce",
   "metadata": {},
   "outputs": [
    {
     "name": "stderr",
     "output_type": "stream",
     "text": [
      "2022-08-02 13:21:19.079885: I tensorflow/core/platform/cpu_feature_guard.cc:193] This TensorFlow binary is optimized with oneAPI Deep Neural Network Library (oneDNN) to use the following CPU instructions in performance-critical operations:  SSE3 SSE4.1 SSE4.2 AVX AVX2 AVX512F AVX512_VNNI FMA\n",
      "To enable them in other operations, rebuild TensorFlow with the appropriate compiler flags.\n",
      "2022-08-02 13:21:19.083375: I tensorflow/core/common_runtime/process_util.cc:146] Creating new thread pool with default inter op setting: 2. Tune using inter_op_parallelism_threads for best performance.\n",
      "2022-08-02 13:21:19.100082: I tensorflow/compiler/mlir/mlir_graph_optimization_pass.cc:354] MLIR V1 optimization pass is not enabled\n"
     ]
    }
   ],
   "source": [
    "from keras.applications.vgg16 import VGG16\n",
    "\n",
    "\n",
    "model = VGG16(weights='imagenet')"
   ]
  },
  {
   "cell_type": "code",
   "execution_count": 7,
   "id": "8f6458de-1585-4489-9188-9b402bcd8837",
   "metadata": {},
   "outputs": [],
   "source": [
    "from keras.utils import load_img, img_to_array\n",
    "from keras.applications.vgg16 import preprocess_input, decode_predictions\n",
    "import numpy as np\n",
    "\n",
    "\n",
    "img_path = 'dogs-vs-cats/train/cats/cat.1.jpg'\n",
    "img = load_img(img_path, target_size=(224,224))\n",
    "x = img_to_array(img)\n",
    "x = np.expand_dims(x, axis=0)\n",
    "x = preprocess_input(x)"
   ]
  },
  {
   "cell_type": "code",
   "execution_count": 8,
   "id": "c1e92cd0-4b9a-4ff8-b754-ccda2c00613d",
   "metadata": {},
   "outputs": [
    {
     "name": "stderr",
     "output_type": "stream",
     "text": [
      "/usr/lib/python3.10/site-packages/keras/engine/training_v1.py:2067: UserWarning: `Model.state_updates` will be removed in a future version. This property should not be used in TensorFlow 2.0, as `updates` are applied automatically.\n",
      "  updates=self.state_updates,\n"
     ]
    },
    {
     "name": "stdout",
     "output_type": "stream",
     "text": [
      "Predicted: [('n02123045', 'tabby', 0.49139673), ('n02123159', 'tiger_cat', 0.35423693), ('n02124075', 'Egyptian_cat', 0.073216744)]\n"
     ]
    }
   ],
   "source": [
    "preds = model.predict(x)\n",
    "print('Predicted:', decode_predictions(preds, top=3)[0])"
   ]
  },
  {
   "cell_type": "code",
   "execution_count": 9,
   "id": "6c9e612d-6e80-4f8c-8670-77e5358cd8ea",
   "metadata": {},
   "outputs": [
    {
     "data": {
      "text/plain": [
       "281"
      ]
     },
     "execution_count": 9,
     "metadata": {},
     "output_type": "execute_result"
    }
   ],
   "source": [
    "np.argmax(preds[0])"
   ]
  },
  {
   "cell_type": "code",
   "execution_count": 10,
   "id": "12ed3c6e-018b-4b03-b8ff-db317c9b3621",
   "metadata": {},
   "outputs": [],
   "source": [
    "# set up the Grad-CAM process"
   ]
  },
  {
   "cell_type": "code",
   "execution_count": 11,
   "id": "49dd7ddb-dea6-434b-86b6-ccf792cf02b5",
   "metadata": {},
   "outputs": [],
   "source": [
    "from keras import backend as K\n",
    "\n",
    "\n",
    "cat_output = model.output[:, 281]\n",
    "last_conv_layer = model.get_layer('block5_conv3')\n",
    "grads = K.gradients(cat_output, last_conv_layer.output)[0]\n",
    "pooled_grads = K.mean(grads, axis=(0, 1, 2))\n",
    "iterate = K.function([model.input], [pooled_grads, last_conv_layer.output[0]])\n",
    "pooled_grads_value, conv_layer_output_value = iterate([x])\n",
    "for i in range(512):\n",
    "    conv_layer_output_value[:, :, i] *= pooled_grads_value[i]\n",
    "heatmap = np.mean(conv_layer_output_value, axis=-1)"
   ]
  },
  {
   "cell_type": "code",
   "execution_count": 12,
   "id": "26e36bca-e809-478b-a329-b56511b8d43b",
   "metadata": {},
   "outputs": [
    {
     "data": {
      "text/plain": [
       "<matplotlib.image.AxesImage at 0x7f694f550910>"
      ]
     },
     "execution_count": 12,
     "metadata": {},
     "output_type": "execute_result"
    },
    {
     "data": {
      "image/png": "[encoded data removed]",
      "text/plain": [
       "<Figure size 345.6x345.6 with 1 Axes>"
      ]
     },
     "metadata": {
      "needs_background": "light"
     },
     "output_type": "display_data"
    }
   ],
   "source": [
    "import matplotlib.pyplot as plt\n",
    "\n",
    "\n",
    "heatmap = np.maximum(heatmap, 0)\n",
    "heatmap /= np.max(heatmap)\n",
    "plt.matshow(heatmap)"
   ]
  },
  {
   "cell_type": "code",
   "execution_count": 14,
   "id": "6ccc6745-680f-4387-89aa-5623a99a7bc0",
   "metadata": {},
   "outputs": [
    {
     "data": {
      "text/plain": [
       "True"
      ]
     },
     "execution_count": 14,
     "metadata": {},
     "output_type": "execute_result"
    }
   ],
   "source": [
    "import cv2\n",
    "\n",
    "\n",
    "img = cv2.imread(img_path)\n",
    "heatmap = cv2.resize(heatmap, (img.shape[1], img.shape[0]))\n",
    "heatmap = np.uint8(255 * heatmap)\n",
    "heatmap = cv2.applyColorMap(heatmap, cv2.COLORMAP_JET)\n",
    "superimposed_img = heatmap * 0.4 + img\n",
    "cv2.imwrite('dogs-vs-cats/cam/cat_cam.jpg', superimposed_img)"
   ]
  }
 ],
 "metadata": {
  "kernelspec": {
   "display_name": "Python 3 (ipykernel)",
   "language": "python",
   "name": "python3"
  },
  "language_info": {
   "codemirror_mode": {
    "name": "ipython",
    "version": 3
   },
   "file_extension": ".py",
   "mimetype": "text/x-python",
   "name": "python",
   "nbconvert_exporter": "python",
   "pygments_lexer": "ipython3",
   "version": "3.10.5"
  }
 },
 "nbformat": 4,
 "nbformat_minor": 5
}
