{
 "cells": [
  {
   "cell_type": "markdown",
   "id": "a33d2ea9-ab70-4151-afe8-59237478a34f",
   "metadata": {},
   "source": [
    "# Generating images with variational autoencoders"
   ]
  },
  {
   "cell_type": "markdown",
   "id": "8a7958f1-4563-4ce2-8ee8-faa2b3723bb9",
   "metadata": {},
   "source": [
    "Sampling from a latent space of images to create entirely new images or edit existing\n",
    "ones is currently the most popular and successful application of creative AI. In this sec-\n",
    "tion and the next, we’ll review some high-level concepts pertaining to image genera-\n",
    "tion, alongside implementations details relative to the two main techniques in this\n",
    "domain: variational autoencoders ( VAEs) and generative adversarial networks ( GANs). The\n",
    "techniques we present here aren’t specific to images—you could develop latent spaces\n",
    "of sound, music, or even text, using GAN s and VAEs—but in practice, the most inter-\n",
    "esting results have been obtained with pictures, and that’s what we focus on here."
   ]
  },
  {
   "cell_type": "markdown",
   "id": "5c2e764d-311e-4427-876e-a9e6eb4e0af5",
   "metadata": {},
   "source": [
    "## Sampling from latent spaces of images"
   ]
  },
  {
   "cell_type": "markdown",
   "id": "1d84376c-fa5e-43e1-a3c6-52e59133454c",
   "metadata": {},
   "source": [
    "The key idea of image generation is to develop a low-dimensional latent space of repre-\n",
    "sentations (which naturally is a vector space) where any point can be mapped to a\n",
    "realistic-looking image. The module capable of realizing this mapping, taking as input\n",
    "a latent point and outputting an image (a grid of pixels), is called a generator (in the\n",
    "case of GANs) or a decoder (in the case of VAEs). Once such a latent space has been\n",
    "developed, you can sample points from it, either deliberately or at random, and, by\n",
    "mapping them to image space, generate images that have never been seen before"
   ]
  },
  {
   "cell_type": "markdown",
   "id": "876332ee-bd5b-4afc-a916-4e14ceb048b6",
   "metadata": {},
   "source": [
    "GANs and VAE s are two different strategies for learning such latent spaces of image\n",
    "representations, each with its own characteristics. VAEs are great for learning latent\n",
    "spaces that are well structured, where specific directions encode a meaningful axis of\n",
    "variation in the data. GANs generate images that can potentially be highly realistic, but\n",
    "the latent space they come from may not have as much structure and continuity."
   ]
  },
  {
   "cell_type": "markdown",
   "id": "71f7b1e1-6ece-43d5-a1f5-f1754f7ab8ec",
   "metadata": {},
   "source": [
    "## Concept vectors for image editing"
   ]
  },
  {
   "cell_type": "markdown",
   "id": "45e0d1af-9d58-402e-91d2-e62a7be4990a",
   "metadata": {},
   "source": [
    "The idea is still the same: given a latent space of representations, or an\n",
    "embedding space, certain directions in the space may encode interesting axes of vari-\n",
    "ation in the original data. In a latent space of images of faces, for instance, there may\n",
    "be a smile vector s, such that if latent point z is the embedded representation of a cer-\n",
    "tain face, then latent point z + s is the embedded representation of the same face,\n",
    "smiling."
   ]
  },
  {
   "cell_type": "markdown",
   "id": "12c9c906-0622-4842-b891-6ce63c73b28b",
   "metadata": {},
   "source": [
    "## Variational autoencoders"
   ]
  },
  {
   "cell_type": "markdown",
   "id": "c3c57022-4062-40c2-881e-ae1c415cf2e7",
   "metadata": {},
   "source": [
    "在编码图像的时候，加上一点随机数。使相邻 latent vector 生成的图像相似。"
   ]
  }
 ],
 "metadata": {
  "kernelspec": {
   "display_name": "Python 3 (ipykernel)",
   "language": "python",
   "name": "python3"
  },
  "language_info": {
   "codemirror_mode": {
    "name": "ipython",
    "version": 3
   },
   "file_extension": ".py",
   "mimetype": "text/x-python",
   "name": "python",
   "nbconvert_exporter": "python",
   "pygments_lexer": "ipython3",
   "version": "3.10.6"
  }
 },
 "nbformat": 4,
 "nbformat_minor": 5
}
