{
 "cells": [
  {
   "cell_type": "code",
   "execution_count": 1,
   "id": "639b8842-c5f5-4bb5-b78b-db30db3f8705",
   "metadata": {},
   "outputs": [],
   "source": [
    "# loading the IMDB dataset\n",
    "\n",
    "from keras.datasets import imdb\n",
    "(train_data, train_labels), (test_data, test_labels) = imdb.load_data(num_words=10000)"
   ]
  },
  {
   "cell_type": "code",
   "execution_count": 2,
   "id": "13945d70-1071-4c63-83e9-e3422f0b6ad4",
   "metadata": {},
   "outputs": [],
   "source": [
    "import numpy as np\n",
    "\n",
    "\n",
    "def vectorize_sequences(sequences, demension=10000):\n",
    "    results = np.zeros((len(sequences), demension))\n",
    "    for i, sequence in enumerate(sequences):\n",
    "        results[i, sequence] = 1\n",
    "    return results\n",
    "\n",
    "\n",
    "x_train = vectorize_sequences(train_data)\n",
    "x_test = vectorize_sequences(test_data)"
   ]
  },
  {
   "cell_type": "code",
   "execution_count": 3,
   "id": "76c82c56-f88d-49aa-a544-2a11095a9ab4",
   "metadata": {},
   "outputs": [],
   "source": [
    "# vectorize labels\n",
    "\n",
    "y_train = np.asarray(train_labels).astype('float32')\n",
    "y_test = np.asarray(test_labels).astype('float32')"
   ]
  },
  {
   "cell_type": "code",
   "execution_count": 4,
   "id": "747b64a5-c249-4bd4-9931-e6831a9c5c71",
   "metadata": {},
   "outputs": [
    {
     "name": "stderr",
     "output_type": "stream",
     "text": [
      "2022-07-21 12:52:48.318207: I tensorflow/core/platform/cpu_feature_guard.cc:193] This TensorFlow binary is optimized with oneAPI Deep Neural Network Library (oneDNN) to use the following CPU instructions in performance-critical operations:  SSE3 SSE4.1 SSE4.2 AVX AVX2 AVX512F AVX512_VNNI FMA\n",
      "To enable them in other operations, rebuild TensorFlow with the appropriate compiler flags.\n",
      "2022-07-21 12:52:48.320654: I tensorflow/core/common_runtime/process_util.cc:146] Creating new thread pool with default inter op setting: 2. Tune using inter_op_parallelism_threads for best performance.\n"
     ]
    }
   ],
   "source": [
    "from keras import models\n",
    "from keras import layers\n",
    "\n",
    "\n",
    "model = models.Sequential()\n",
    "model.add(layers.Dense(16, activation='relu', input_shape=(10000,)))\n",
    "model.add(layers.Dense(16, activation='relu'))\n",
    "model.add(layers.Dense(1, activation='sigmoid'))\n",
    "\n",
    "modeld = models.Sequential()\n",
    "modeld.add(layers.Dense(4, activation='relu', input_shape=(10000,)))\n",
    "modeld.add(layers.Dropout(0.5))\n",
    "modeld.add(layers.Dense(4, activation='relu'))\n",
    "modeld.add(layers.Dropout(0.5))\n",
    "modeld.add(layers.Dense(1, activation='sigmoid'))"
   ]
  },
  {
   "cell_type": "code",
   "execution_count": 5,
   "id": "62690107-9436-4d6f-9ea6-77962c017e3b",
   "metadata": {},
   "outputs": [],
   "source": [
    "model.compile(optimizer='rmsprop', loss='binary_crossentropy', metrics='accuracy')\n",
    "modeld.compile(optimizer='rmsprop', loss='binary_crossentropy', metrics='accuracy')"
   ]
  },
  {
   "cell_type": "code",
   "execution_count": 6,
   "id": "b2c849ca-bd05-44d5-8c78-6bd553604354",
   "metadata": {},
   "outputs": [],
   "source": [
    "x_val = x_train[:10000]\n",
    "partial_x_train = x_train[10000:]\n",
    "y_val = y_train[:10000]\n",
    "partial_y_train = y_train[10000:]"
   ]
  },
  {
   "cell_type": "code",
   "execution_count": 7,
   "id": "e28c0ed9-1854-42c2-bf30-103583e7f27c",
   "metadata": {},
   "outputs": [
    {
     "name": "stdout",
     "output_type": "stream",
     "text": [
      "Epoch 1/20\n",
      "30/30 [==============================] - 2s 37ms/step - loss: 0.5103 - accuracy: 0.7792 - val_loss: 0.3789 - val_accuracy: 0.8690\n",
      "Epoch 2/20\n",
      "30/30 [==============================] - 0s 16ms/step - loss: 0.2963 - accuracy: 0.9029 - val_loss: 0.3184 - val_accuracy: 0.8765\n",
      "Epoch 3/20\n",
      "30/30 [==============================] - 0s 15ms/step - loss: 0.2121 - accuracy: 0.9321 - val_loss: 0.2837 - val_accuracy: 0.8872\n",
      "Epoch 4/20\n",
      "30/30 [==============================] - 1s 18ms/step - loss: 0.1684 - accuracy: 0.9466 - val_loss: 0.3192 - val_accuracy: 0.8730\n",
      "Epoch 5/20\n",
      "30/30 [==============================] - 1s 23ms/step - loss: 0.1400 - accuracy: 0.9541 - val_loss: 0.3001 - val_accuracy: 0.8809\n",
      "Epoch 6/20\n",
      "30/30 [==============================] - 0s 15ms/step - loss: 0.1123 - accuracy: 0.9667 - val_loss: 0.3120 - val_accuracy: 0.8783\n",
      "Epoch 7/20\n",
      "30/30 [==============================] - 0s 15ms/step - loss: 0.0927 - accuracy: 0.9737 - val_loss: 0.3245 - val_accuracy: 0.8789\n",
      "Epoch 8/20\n",
      "30/30 [==============================] - 0s 16ms/step - loss: 0.0810 - accuracy: 0.9769 - val_loss: 0.3703 - val_accuracy: 0.8718\n",
      "Epoch 9/20\n",
      "30/30 [==============================] - 1s 19ms/step - loss: 0.0634 - accuracy: 0.9841 - val_loss: 0.3613 - val_accuracy: 0.8792\n",
      "Epoch 10/20\n",
      "30/30 [==============================] - 0s 16ms/step - loss: 0.0543 - accuracy: 0.9858 - val_loss: 0.3879 - val_accuracy: 0.8761\n",
      "Epoch 11/20\n",
      "30/30 [==============================] - 1s 18ms/step - loss: 0.0410 - accuracy: 0.9917 - val_loss: 0.4155 - val_accuracy: 0.8745\n",
      "Epoch 12/20\n",
      "30/30 [==============================] - 1s 20ms/step - loss: 0.0334 - accuracy: 0.9926 - val_loss: 0.5052 - val_accuracy: 0.8600\n",
      "Epoch 13/20\n",
      "30/30 [==============================] - 1s 22ms/step - loss: 0.0273 - accuracy: 0.9947 - val_loss: 0.4790 - val_accuracy: 0.8718\n",
      "Epoch 14/20\n",
      "30/30 [==============================] - 1s 21ms/step - loss: 0.0220 - accuracy: 0.9962 - val_loss: 0.5138 - val_accuracy: 0.8685\n",
      "Epoch 15/20\n",
      "30/30 [==============================] - 0s 15ms/step - loss: 0.0157 - accuracy: 0.9980 - val_loss: 0.5798 - val_accuracy: 0.8671\n",
      "Epoch 16/20\n",
      "30/30 [==============================] - 0s 15ms/step - loss: 0.0177 - accuracy: 0.9964 - val_loss: 0.5833 - val_accuracy: 0.8704\n",
      "Epoch 17/20\n",
      "30/30 [==============================] - 1s 20ms/step - loss: 0.0075 - accuracy: 0.9996 - val_loss: 0.6122 - val_accuracy: 0.8680\n",
      "Epoch 18/20\n",
      "30/30 [==============================] - 1s 18ms/step - loss: 0.0109 - accuracy: 0.9980 - val_loss: 0.6435 - val_accuracy: 0.8658\n",
      "Epoch 19/20\n",
      "30/30 [==============================] - 1s 19ms/step - loss: 0.0095 - accuracy: 0.9981 - val_loss: 0.6722 - val_accuracy: 0.8654\n",
      "Epoch 20/20\n",
      "30/30 [==============================] - 0s 12ms/step - loss: 0.0036 - accuracy: 0.9999 - val_loss: 0.6985 - val_accuracy: 0.8650\n",
      "Epoch 1/20\n",
      "30/30 [==============================] - 1s 30ms/step - loss: 0.6623 - accuracy: 0.5981 - val_loss: 0.6087 - val_accuracy: 0.7708\n",
      "Epoch 2/20\n",
      "30/30 [==============================] - 1s 18ms/step - loss: 0.6089 - accuracy: 0.6688 - val_loss: 0.5739 - val_accuracy: 0.8547\n",
      "Epoch 3/20\n",
      "30/30 [==============================] - 0s 15ms/step - loss: 0.5754 - accuracy: 0.6980 - val_loss: 0.5271 - val_accuracy: 0.8616\n",
      "Epoch 4/20\n",
      "30/30 [==============================] - 0s 16ms/step - loss: 0.5494 - accuracy: 0.7179 - val_loss: 0.5077 - val_accuracy: 0.8736\n",
      "Epoch 5/20\n",
      "30/30 [==============================] - 1s 19ms/step - loss: 0.5305 - accuracy: 0.7277 - val_loss: 0.4595 - val_accuracy: 0.8770\n",
      "Epoch 6/20\n",
      "30/30 [==============================] - 0s 16ms/step - loss: 0.5085 - accuracy: 0.7451 - val_loss: 0.4496 - val_accuracy: 0.8796\n",
      "Epoch 7/20\n",
      "30/30 [==============================] - 0s 15ms/step - loss: 0.4958 - accuracy: 0.7506 - val_loss: 0.4184 - val_accuracy: 0.8838\n",
      "Epoch 8/20\n",
      "30/30 [==============================] - 0s 14ms/step - loss: 0.4805 - accuracy: 0.7665 - val_loss: 0.4041 - val_accuracy: 0.8836\n",
      "Epoch 9/20\n",
      "30/30 [==============================] - 0s 16ms/step - loss: 0.4734 - accuracy: 0.7659 - val_loss: 0.3878 - val_accuracy: 0.8821\n",
      "Epoch 10/20\n",
      "30/30 [==============================] - 1s 17ms/step - loss: 0.4582 - accuracy: 0.7760 - val_loss: 0.3919 - val_accuracy: 0.8694\n",
      "Epoch 11/20\n",
      "30/30 [==============================] - 0s 16ms/step - loss: 0.4474 - accuracy: 0.7886 - val_loss: 0.3600 - val_accuracy: 0.8839\n",
      "Epoch 12/20\n",
      "30/30 [==============================] - 0s 15ms/step - loss: 0.4443 - accuracy: 0.7830 - val_loss: 0.3480 - val_accuracy: 0.8850\n",
      "Epoch 13/20\n",
      "30/30 [==============================] - 1s 22ms/step - loss: 0.4293 - accuracy: 0.7942 - val_loss: 0.3413 - val_accuracy: 0.8835\n",
      "Epoch 14/20\n",
      "30/30 [==============================] - 1s 18ms/step - loss: 0.4227 - accuracy: 0.8027 - val_loss: 0.3398 - val_accuracy: 0.8756\n",
      "Epoch 15/20\n",
      "30/30 [==============================] - 0s 14ms/step - loss: 0.4173 - accuracy: 0.8052 - val_loss: 0.3294 - val_accuracy: 0.8790\n",
      "Epoch 16/20\n",
      "30/30 [==============================] - 0s 16ms/step - loss: 0.4084 - accuracy: 0.8100 - val_loss: 0.3304 - val_accuracy: 0.8801\n",
      "Epoch 17/20\n",
      "30/30 [==============================] - 0s 14ms/step - loss: 0.4017 - accuracy: 0.8151 - val_loss: 0.3264 - val_accuracy: 0.8818\n",
      "Epoch 18/20\n",
      "30/30 [==============================] - 0s 16ms/step - loss: 0.3926 - accuracy: 0.8199 - val_loss: 0.3505 - val_accuracy: 0.8771\n",
      "Epoch 19/20\n",
      "30/30 [==============================] - 0s 17ms/step - loss: 0.3958 - accuracy: 0.8183 - val_loss: 0.3413 - val_accuracy: 0.8771\n",
      "Epoch 20/20\n",
      "30/30 [==============================] - 0s 10ms/step - loss: 0.3852 - accuracy: 0.8221 - val_loss: 0.3367 - val_accuracy: 0.8780\n"
     ]
    }
   ],
   "source": [
    "history = model.fit(partial_x_train, partial_y_train, epochs=20, batch_size=512, validation_data=(x_val, y_val))\n",
    "historyd = modeld.fit(partial_x_train, partial_y_train, epochs=20, batch_size=512, validation_data=(x_val, y_val))"
   ]
  },
  {
   "cell_type": "code",
   "execution_count": 8,
   "id": "03c9f2b5-7878-44f9-b9cf-188d5517d217",
   "metadata": {},
   "outputs": [
    {
     "data": {
      "image/png": "[encoded data removed]",
      "text/plain": [
       "<Figure size 432x288 with 1 Axes>"
      ]
     },
     "metadata": {
      "needs_background": "light"
     },
     "output_type": "display_data"
    }
   ],
   "source": [
    "import matplotlib.pyplot as plt\n",
    "\n",
    "\n",
    "val_loss_values = history.history['val_loss']\n",
    "epoches = range(1, len(val_loss_values) + 1)\n",
    "plt.plot(epoches, val_loss_values, '-', label='model')\n",
    "\n",
    "val_loss_values = historyd.history['val_loss']\n",
    "epoches = range(1, len(val_loss_values) + 1)\n",
    "plt.plot(epoches, val_loss_values, '+', label='modeld')\n",
    "\n",
    "plt.xlabel('Epoches')\n",
    "plt.ylabel('Validation loss')\n",
    "plt.legend()\n",
    "plt.show()"
   ]
  }
 ],
 "metadata": {
  "kernelspec": {
   "display_name": "Python 3 (ipykernel)",
   "language": "python",
   "name": "python3"
  },
  "language_info": {
   "codemirror_mode": {
    "name": "ipython",
    "version": 3
   },
   "file_extension": ".py",
   "mimetype": "text/x-python",
   "name": "python",
   "nbconvert_exporter": "python",
   "pygments_lexer": "ipython3",
   "version": "3.10.5"
  }
 },
 "nbformat": 4,
 "nbformat_minor": 5
}
