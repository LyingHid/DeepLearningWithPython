{
 "cells": [
  {
   "cell_type": "markdown",
   "id": "f6c66ac7-278a-4d07-b478-284627576d06",
   "metadata": {},
   "source": [
    "Chapter 5. Deep learning for computer vision"
   ]
  },
  {
   "cell_type": "markdown",
   "id": "ca210651-e353-4f13-b6db-520203029280",
   "metadata": {},
   "source": [
    "convolutional neural networks (convnets)"
   ]
  },
  {
   "cell_type": "markdown",
   "id": "e0683b1f-b586-45f0-8ab1-97121fa5b51c",
   "metadata": {},
   "source": [
    "two interesting properties:\n",
    "\n",
    "The patterns they learn are translation invariant.\n",
    "After learning a certain pattern in the lower-right corner of a picture, a convnet can recognize it anywhere\n",
    "\n",
    "They can learn spatial hierarchies of patterns (see figure 5.2).\n",
    "A first convolution layer will learn small local patterns such as edges, a second convolution layer will learn larger patterns made of the features of the first layers, and so on."
   ]
  },
  {
   "cell_type": "markdown",
   "id": "bb16e8fb-6cfd-406b-98a0-d1be0459829f",
   "metadata": {},
   "source": [
    "卷积神经网络中，中间层的各 channel，代表 filter。\n",
    "（对比输入参数的 channel，代表的是 RGB 之类的）"
   ]
  },
  {
   "cell_type": "markdown",
   "id": "8cfd8272-23fb-4b02-903d-4af1a3bb21e9",
   "metadata": {},
   "source": [
    "Convolutions are defined by two key parameters:\n",
    "Size of the patches extracted from the inputs.\n",
    "Depth of the output feature map — The number of filters computed by the convolution."
   ]
  },
  {
   "cell_type": "markdown",
   "id": "92def9a9-df5f-43a2-97aa-fc0293e93c16",
   "metadata": {},
   "source": [
    "MaxPooling 的作用，没有 MaxPooling 会发生什么：\n",
    "The reason to use downsampling is to reduce the number of feature-map coefficients to process, as well as to induce spatial-filter hierarchies by making successive convolution layers look at increasingly large windows.\n",
    "\n",
    "MaxPooling 通常做得比 AvgPooling 好。"
   ]
  },
  {
   "cell_type": "markdown",
   "id": "fe7552e5-626d-4842-bf5a-351a03344413",
   "metadata": {},
   "source": [
    "Training a convnet from scratch on a small dataset\n",
    "\n",
    "data augmentation, a powerful technique for mitigating overfitting in computer vision.\n",
    "feature extraction with a pretrained network.\n",
    "fine-tuning a pretrained network."
   ]
  }
 ],
 "metadata": {
  "kernelspec": {
   "display_name": "Python 3 (ipykernel)",
   "language": "python",
   "name": "python3"
  },
  "language_info": {
   "codemirror_mode": {
    "name": "ipython",
    "version": 3
   },
   "file_extension": ".py",
   "mimetype": "text/x-python",
   "name": "python",
   "nbconvert_exporter": "python",
   "pygments_lexer": "ipython3",
   "version": "3.10.5"
  }
 },
 "nbformat": 4,
 "nbformat_minor": 5
}
