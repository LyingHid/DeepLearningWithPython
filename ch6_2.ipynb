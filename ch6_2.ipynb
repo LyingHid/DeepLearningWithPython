{
 "cells": [
  {
   "cell_type": "code",
   "execution_count": null,
   "id": "5c28d4ff-4b0d-41c7-ac7c-22ac775cb8c8",
   "metadata": {},
   "outputs": [],
   "source": [
    "# recurrent neural networks"
   ]
  },
  {
   "cell_type": "code",
   "execution_count": 3,
   "id": "a66badae-ad24-4178-a9c6-8dd10ea71be5",
   "metadata": {},
   "outputs": [
    {
     "name": "stdout",
     "output_type": "stream",
     "text": [
      "Loading data...\n",
      "25000 train sequences\n",
      "25000 test sequences\n",
      "Pad sequences (samples x time)\n",
      "input_train shape: (25000, 500)\n",
      "input_test shape: (25000, 500)\n"
     ]
    }
   ],
   "source": [
    "from keras.datasets import imdb\n",
    "from keras.utils.data_utils import pad_sequences\n",
    "\n",
    "\n",
    "max_features = 10000\n",
    "maxlen = 500\n",
    "batch_size = 32\n",
    "\n",
    "print('Loading data...')\n",
    "(input_train, y_train), (input_test, y_test) = imdb.load_data(num_words=max_features)\n",
    "print(len(input_train), 'train sequences')\n",
    "print(len(input_test), 'test sequences')\n",
    "print('Pad sequences (samples x time)')\n",
    "input_train = pad_sequences(input_train, maxlen=maxlen)\n",
    "input_test = pad_sequences(input_test, maxlen=maxlen)\n",
    "print('input_train shape:', input_train.shape)\n",
    "print('input_test shape:', input_test.shape)"
   ]
  },
  {
   "cell_type": "code",
   "execution_count": null,
   "id": "5fb9c999-6830-4ac5-9bda-8d4c40d24baa",
   "metadata": {},
   "outputs": [
    {
     "name": "stdout",
     "output_type": "stream",
     "text": [
      "Epoch 1/10\n",
      "157/157 [==============================] - 45s 279ms/step - loss: 0.6151 - acc: 0.6514 - val_loss: 0.4959 - val_acc: 0.7710\n",
      "Epoch 2/10\n",
      "157/157 [==============================] - 36s 228ms/step - loss: 0.4109 - acc: 0.8296 - val_loss: 0.3996 - val_acc: 0.8228\n",
      "Epoch 3/10\n",
      "157/157 [==============================] - 25s 161ms/step - loss: 0.3054 - acc: 0.8773 - val_loss: 0.3641 - val_acc: 0.8516\n",
      "Epoch 4/10\n",
      "157/157 [==============================] - 26s 163ms/step - loss: 0.2522 - acc: 0.9013 - val_loss: 0.3856 - val_acc: 0.8306\n",
      "Epoch 5/10\n",
      "157/157 [==============================] - 25s 157ms/step - loss: 0.2082 - acc: 0.9211 - val_loss: 0.6341 - val_acc: 0.7932\n",
      "Epoch 6/10\n",
      "157/157 [==============================] - 27s 175ms/step - loss: 0.1483 - acc: 0.9470 - val_loss: 0.4510 - val_acc: 0.8132\n",
      "Epoch 7/10\n",
      " 36/157 [=====>........................] - ETA: 17s - loss: 0.1009 - acc: 0.9659"
     ]
    }
   ],
   "source": [
    "from keras.models import Sequential\n",
    "from keras.layers import Dense, Embedding, SimpleRNN\n",
    "\n",
    "\n",
    "model = Sequential()\n",
    "model.add(Embedding(max_features, 32))\n",
    "model.add(SimpleRNN(32))\n",
    "model.add(Dense(1, activation='sigmoid'))\n",
    "model.compile(optimizer='rmsprop', loss='binary_crossentropy', metrics=['acc'])\n",
    "history = model.fit(input_train, y_train,\n",
    "                    epochs=10,\n",
    "                    batch_size=128,\n",
    "                    validation_split=0.2)"
   ]
  },
  {
   "cell_type": "code",
   "execution_count": 8,
   "id": "655d180d-e088-4250-9dc5-df81e02ab4d8",
   "metadata": {},
   "outputs": [
    {
     "data": {
      "image/png": "[encoded data removed]",
      "text/plain": [
       "<Figure size 432x288 with 1 Axes>"
      ]
     },
     "metadata": {
      "needs_background": "light"
     },
     "output_type": "display_data"
    },
    {
     "data": {
      "image/png": "[encoded data removed]",
      "text/plain": [
       "<Figure size 432x288 with 1 Axes>"
      ]
     },
     "metadata": {
      "needs_background": "light"
     },
     "output_type": "display_data"
    }
   ],
   "source": [
    "import matplotlib.pyplot as plt\n",
    "\n",
    "\n",
    "acc = history.history['acc']\n",
    "val_acc = history.history['val_acc']\n",
    "loss = history.history['loss']\n",
    "val_loss = history.history['val_loss']\n",
    "epochs = range(1, len(acc) + 1)\n",
    "plt.plot(epochs, acc, 'bo', label='Training acc')\n",
    "plt.plot(epochs, val_acc, 'b', label='Validation acc')\n",
    "plt.title('Training and validation accuracy')\n",
    "plt.legend()\n",
    "plt.figure()\n",
    "plt.plot(epochs, loss, 'bo', label='Training loss')\n",
    "plt.plot(epochs, val_loss, 'b', label='Validation loss')\n",
    "plt.title('Training and validation loss')\n",
    "plt.legend()\n",
    "plt.show()\n"
   ]
  },
  {
   "cell_type": "code",
   "execution_count": null,
   "id": "63524888-fc5b-42b4-9eae-8d7200f5da6d",
   "metadata": {},
   "outputs": [],
   "source": [
    "# Part of the problem is that your inputs only consider the first 500 words, \n",
    "# rather than full sequences—hence, the RNN has access to less information than the earlier baseline model. \n",
    "# The remainder of the problem is that SimpleRNN isn’t good at processing long sequences, such as text."
   ]
  },
  {
   "cell_type": "code",
   "execution_count": null,
   "id": "75f3346f-b853-4af4-89c4-d081a0b83051",
   "metadata": {},
   "outputs": [],
   "source": [
    "# Understanding the LSTM and GRU layers"
   ]
  },
  {
   "cell_type": "code",
   "execution_count": 9,
   "id": "3e45e4f8-fc2c-4126-863f-743ababe57e3",
   "metadata": {},
   "outputs": [
    {
     "name": "stdout",
     "output_type": "stream",
     "text": [
      "Epoch 1/10\n",
      "157/157 [==============================] - 98s 614ms/step - loss: 0.4978 - acc: 0.7625 - val_loss: 0.4381 - val_acc: 0.8020\n",
      "Epoch 2/10\n",
      "157/157 [==============================] - 102s 652ms/step - loss: 0.2925 - acc: 0.8844 - val_loss: 0.3536 - val_acc: 0.8472\n",
      "Epoch 3/10\n",
      "157/157 [==============================] - 100s 635ms/step - loss: 0.2295 - acc: 0.9140 - val_loss: 0.3569 - val_acc: 0.8500\n",
      "Epoch 4/10\n",
      "157/157 [==============================] - 103s 659ms/step - loss: 0.1997 - acc: 0.9254 - val_loss: 0.4194 - val_acc: 0.8442\n",
      "Epoch 5/10\n",
      "157/157 [==============================] - 96s 609ms/step - loss: 0.1719 - acc: 0.9375 - val_loss: 0.3513 - val_acc: 0.8640\n",
      "Epoch 6/10\n",
      "157/157 [==============================] - 100s 639ms/step - loss: 0.1529 - acc: 0.9464 - val_loss: 0.3324 - val_acc: 0.8836\n",
      "Epoch 7/10\n",
      "157/157 [==============================] - 101s 643ms/step - loss: 0.1395 - acc: 0.9497 - val_loss: 0.3239 - val_acc: 0.8878\n",
      "Epoch 8/10\n",
      "157/157 [==============================] - 103s 658ms/step - loss: 0.1254 - acc: 0.9569 - val_loss: 0.4088 - val_acc: 0.8710\n",
      "Epoch 9/10\n",
      "157/157 [==============================] - 108s 687ms/step - loss: 0.1182 - acc: 0.9589 - val_loss: 0.3658 - val_acc: 0.8842\n",
      "Epoch 10/10\n",
      "157/157 [==============================] - 97s 618ms/step - loss: 0.1104 - acc: 0.9609 - val_loss: 0.4210 - val_acc: 0.8842\n"
     ]
    }
   ],
   "source": [
    "from keras.layers import LSTM\n",
    "\n",
    "\n",
    "model = Sequential()\n",
    "model.add(Embedding(max_features, 32))\n",
    "model.add(LSTM(32))\n",
    "model.add(Dense(1, activation='sigmoid'))\n",
    "model.compile(optimizer='rmsprop', loss='binary_crossentropy', metrics=['acc'])\n",
    "history = model.fit(input_train, y_train,\n",
    "                    epochs=10,\n",
    "                    batch_size=128,\n",
    "                    validation_split=0.2)"
   ]
  }
 ],
 "metadata": {
  "kernelspec": {
   "display_name": "Python 3 (ipykernel)",
   "language": "python",
   "name": "python3"
  },
  "language_info": {
   "codemirror_mode": {
    "name": "ipython",
    "version": 3
   },
   "file_extension": ".py",
   "mimetype": "text/x-python",
   "name": "python",
   "nbconvert_exporter": "python",
   "pygments_lexer": "ipython3",
   "version": "3.10.5"
  }
 },
 "nbformat": 4,
 "nbformat_minor": 5
}
