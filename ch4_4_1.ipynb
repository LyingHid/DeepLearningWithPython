{
 "cells": [
  {
   "cell_type": "code",
   "execution_count": 1,
   "id": "639b8842-c5f5-4bb5-b78b-db30db3f8705",
   "metadata": {},
   "outputs": [],
   "source": [
    "# loading the IMDB dataset\n",
    "\n",
    "from keras.datasets import imdb\n",
    "(train_data, train_labels), (test_data, test_labels) = imdb.load_data(num_words=10000)"
   ]
  },
  {
   "cell_type": "code",
   "execution_count": 2,
   "id": "13945d70-1071-4c63-83e9-e3422f0b6ad4",
   "metadata": {},
   "outputs": [],
   "source": [
    "import numpy as np\n",
    "\n",
    "\n",
    "def vectorize_sequences(sequences, demension=10000):\n",
    "    results = np.zeros((len(sequences), demension))\n",
    "    for i, sequence in enumerate(sequences):\n",
    "        results[i, sequence] = 1\n",
    "    return results\n",
    "\n",
    "\n",
    "x_train = vectorize_sequences(train_data)\n",
    "x_test = vectorize_sequences(test_data)"
   ]
  },
  {
   "cell_type": "code",
   "execution_count": 3,
   "id": "76c82c56-f88d-49aa-a544-2a11095a9ab4",
   "metadata": {},
   "outputs": [],
   "source": [
    "# vectorize labels\n",
    "\n",
    "y_train = np.asarray(train_labels).astype('float32')\n",
    "y_test = np.asarray(test_labels).astype('float32')"
   ]
  },
  {
   "cell_type": "code",
   "execution_count": 4,
   "id": "747b64a5-c249-4bd4-9931-e6831a9c5c71",
   "metadata": {},
   "outputs": [
    {
     "name": "stderr",
     "output_type": "stream",
     "text": [
      "2022-07-21 12:38:38.568403: I tensorflow/core/platform/cpu_feature_guard.cc:193] This TensorFlow binary is optimized with oneAPI Deep Neural Network Library (oneDNN) to use the following CPU instructions in performance-critical operations:  SSE3 SSE4.1 SSE4.2 AVX AVX2 AVX512F AVX512_VNNI FMA\n",
      "To enable them in other operations, rebuild TensorFlow with the appropriate compiler flags.\n",
      "2022-07-21 12:38:38.571202: I tensorflow/core/common_runtime/process_util.cc:146] Creating new thread pool with default inter op setting: 2. Tune using inter_op_parallelism_threads for best performance.\n"
     ]
    }
   ],
   "source": [
    "from keras import models\n",
    "from keras import layers\n",
    "\n",
    "\n",
    "model = models.Sequential()\n",
    "model.add(layers.Dense(16, activation='relu', input_shape=(10000,)))\n",
    "model.add(layers.Dense(16, activation='relu'))\n",
    "model.add(layers.Dense(1, activation='sigmoid'))\n",
    "\n",
    "model4 = models.Sequential()\n",
    "model4.add(layers.Dense(4, activation='relu', input_shape=(10000,)))\n",
    "model4.add(layers.Dense(4, activation='relu'))\n",
    "model4.add(layers.Dense(1, activation='sigmoid'))\n",
    "\n",
    "model512 = models.Sequential()\n",
    "model512.add(layers.Dense(512, activation='relu', input_shape=(10000,)))\n",
    "model512.add(layers.Dense(512, activation='relu'))\n",
    "model512.add(layers.Dense(1, activation='sigmoid'))"
   ]
  },
  {
   "cell_type": "code",
   "execution_count": 5,
   "id": "62690107-9436-4d6f-9ea6-77962c017e3b",
   "metadata": {},
   "outputs": [],
   "source": [
    "model.compile(optimizer='rmsprop', loss='binary_crossentropy', metrics='accuracy')\n",
    "model4.compile(optimizer='rmsprop', loss='binary_crossentropy', metrics='accuracy')\n",
    "model512.compile(optimizer='rmsprop', loss='binary_crossentropy', metrics='accuracy')"
   ]
  },
  {
   "cell_type": "code",
   "execution_count": 6,
   "id": "b2c849ca-bd05-44d5-8c78-6bd553604354",
   "metadata": {},
   "outputs": [],
   "source": [
    "x_val = x_train[:10000]\n",
    "partial_x_train = x_train[10000:]\n",
    "y_val = y_train[:10000]\n",
    "partial_y_train = y_train[10000:]"
   ]
  },
  {
   "cell_type": "code",
   "execution_count": 7,
   "id": "e28c0ed9-1854-42c2-bf30-103583e7f27c",
   "metadata": {},
   "outputs": [],
   "source": [
    "history = model.fit(partial_x_train, partial_y_train, epochs=20, batch_size=512, validation_data=(x_val, y_val))\n",
    "history4 = model4.fit(partial_x_train, partial_y_train, epochs=20, batch_size=512, validation_data=(x_val, y_val))\n",
    "history512 = model512.fit(partial_x_train, partial_y_train, epochs=20, batch_size=512, validation_data=(x_val, y_val))"
   ]
  },
  {
   "cell_type": "code",
   "execution_count": 10,
   "id": "03c9f2b5-7878-44f9-b9cf-188d5517d217",
   "metadata": {},
   "outputs": [
    {
     "data": {
      "image/png": "[encoded data removed]",
      "text/plain": [
       "<Figure size 432x288 with 1 Axes>"
      ]
     },
     "metadata": {
      "needs_background": "light"
     },
     "output_type": "display_data"
    }
   ],
   "source": [
    "import matplotlib.pyplot as plt\n",
    "\n",
    "\n",
    "val_loss_values = history.history['val_loss']\n",
    "epoches = range(1, len(val_loss_values) + 1)\n",
    "plt.plot(epoches, val_loss_values, '-', label='model')\n",
    "\n",
    "val_loss_values = history4.history['val_loss']\n",
    "epoches = range(1, len(val_loss_values) + 1)\n",
    "plt.plot(epoches, val_loss_values, '+', label='model4')\n",
    "\n",
    "val_loss_values = history512.history['val_loss']\n",
    "epoches = range(1, len(val_loss_values) + 1)\n",
    "plt.plot(epoches, val_loss_values, 'x', label='model512')\n",
    "\n",
    "plt.xlabel('Epoches')\n",
    "plt.ylabel('Validation loss')\n",
    "plt.legend()\n",
    "plt.show()"
   ]
  }
 ],
 "metadata": {
  "kernelspec": {
   "display_name": "Python 3 (ipykernel)",
   "language": "python",
   "name": "python3"
  },
  "language_info": {
   "codemirror_mode": {
    "name": "ipython",
    "version": 3
   },
   "file_extension": ".py",
   "mimetype": "text/x-python",
   "name": "python",
   "nbconvert_exporter": "python",
   "pygments_lexer": "ipython3",
   "version": "3.10.5"
  }
 },
 "nbformat": 4,
 "nbformat_minor": 5
}
