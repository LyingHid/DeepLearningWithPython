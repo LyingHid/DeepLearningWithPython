{
 "cells": [
  {
   "cell_type": "code",
   "execution_count": 1,
   "id": "639b8842-c5f5-4bb5-b78b-db30db3f8705",
   "metadata": {},
   "outputs": [],
   "source": [
    "# loading the IMDB dataset\n",
    "\n",
    "from keras.datasets import imdb\n",
    "(train_data, train_labels), (test_data, test_labels) = imdb.load_data(num_words=10000)"
   ]
  },
  {
   "cell_type": "code",
   "execution_count": 2,
   "id": "33b73697-d7ba-4888-b2b2-56ce3b2c0730",
   "metadata": {},
   "outputs": [],
   "source": [
    "# keep the top 10000 most frequently occurring words in the train\n",
    "# num_words=10000"
   ]
  },
  {
   "cell_type": "code",
   "execution_count": 3,
   "id": "2f8f32dd-812e-43db-a02e-f37add814de9",
   "metadata": {},
   "outputs": [],
   "source": [
    "# turning data to tensors\n",
    "# option 1: trun them into an integer tensor of shape (samples, word_indices), first layer of the model becomes embedding layer\n",
    "# option 2: one-hot encode"
   ]
  },
  {
   "cell_type": "code",
   "execution_count": 4,
   "id": "13945d70-1071-4c63-83e9-e3422f0b6ad4",
   "metadata": {},
   "outputs": [],
   "source": [
    "import numpy as np\n",
    "\n",
    "\n",
    "def vectorize_sequences(sequences, demension=10000):\n",
    "    results = np.zeros((len(sequences), demension))\n",
    "    for i, sequence in enumerate(sequences):\n",
    "        results[i, sequence] = 1\n",
    "    return results\n",
    "\n",
    "\n",
    "x_train = vectorize_sequences(train_data)\n",
    "x_test = vectorize_sequences(test_data)"
   ]
  },
  {
   "cell_type": "code",
   "execution_count": 5,
   "id": "76c82c56-f88d-49aa-a544-2a11095a9ab4",
   "metadata": {},
   "outputs": [],
   "source": [
    "# vectorize labels\n",
    "\n",
    "y_train = np.asarray(train_labels).astype('float32')\n",
    "y_test = np.asarray(test_labels).astype('float32')"
   ]
  },
  {
   "cell_type": "code",
   "execution_count": 6,
   "id": "dc9e02eb-0a9e-407f-9ba0-674a39a5838d",
   "metadata": {},
   "outputs": [],
   "source": [
    "# how much layers to use\n",
    "# how many hidden units to choose for each layer\n",
    "\n",
    "# sigmoid activation: output a probaility (a score berween 0 and 1)"
   ]
  },
  {
   "cell_type": "code",
   "execution_count": 7,
   "id": "747b64a5-c249-4bd4-9931-e6831a9c5c71",
   "metadata": {},
   "outputs": [
    {
     "name": "stderr",
     "output_type": "stream",
     "text": [
      "2022-07-20 06:18:47.475322: I tensorflow/core/platform/cpu_feature_guard.cc:193] This TensorFlow binary is optimized with oneAPI Deep Neural Network Library (oneDNN) to use the following CPU instructions in performance-critical operations:  SSE3 SSE4.1 SSE4.2 AVX AVX2 AVX512F AVX512_VNNI FMA\n",
      "To enable them in other operations, rebuild TensorFlow with the appropriate compiler flags.\n",
      "2022-07-20 06:18:47.478093: I tensorflow/core/common_runtime/process_util.cc:146] Creating new thread pool with default inter op setting: 2. Tune using inter_op_parallelism_threads for best performance.\n"
     ]
    }
   ],
   "source": [
    "from keras import models\n",
    "from keras import layers\n",
    "\n",
    "model = models.Sequential()\n",
    "model.add(layers.Dense(16, activation='relu', input_shape=(10000,)))\n",
    "model.add(layers.Dense(16, activation='relu'))\n",
    "model.add(layers.Dense(1, activation='sigmoid'))"
   ]
  },
  {
   "cell_type": "code",
   "execution_count": 8,
   "id": "68918f6d-3b8e-4115-a06e-0cfad1ed601d",
   "metadata": {},
   "outputs": [],
   "source": [
    "# choose a loss function and an optimizer\n",
    "\n",
    "# Because you are facing a binary classification problem and the output of your network is a probability\n",
    "# it's best to use binary crossentropy loss"
   ]
  },
  {
   "cell_type": "code",
   "execution_count": 9,
   "id": "62690107-9436-4d6f-9ea6-77962c017e3b",
   "metadata": {},
   "outputs": [],
   "source": [
    "model.compile(optimizer='rmsprop', loss='binary_crossentropy', metrics='accuracy')"
   ]
  },
  {
   "cell_type": "code",
   "execution_count": 10,
   "id": "0685f281-2d49-40d1-89be-3cb269581c87",
   "metadata": {},
   "outputs": [],
   "source": [
    "# In order to monitor during training the accuracy of the model on data it has never seen before,\n",
    "# you'll create a validation set by setting apart 10000 samples from the original training data."
   ]
  },
  {
   "cell_type": "code",
   "execution_count": 11,
   "id": "b2c849ca-bd05-44d5-8c78-6bd553604354",
   "metadata": {},
   "outputs": [],
   "source": [
    "x_val = x_train[:10000]\n",
    "partial_x_train = x_train[10000:]\n",
    "y_val = y_train[:10000]\n",
    "partial_y_train = y_train[10000:]"
   ]
  },
  {
   "cell_type": "code",
   "execution_count": 12,
   "id": "e28c0ed9-1854-42c2-bf30-103583e7f27c",
   "metadata": {},
   "outputs": [
    {
     "name": "stdout",
     "output_type": "stream",
     "text": [
      "Epoch 1/20\n",
      "30/30 [==============================] - 3s 73ms/step - loss: 0.5145 - accuracy: 0.7835 - val_loss: 0.3976 - val_accuracy: 0.8673\n",
      "Epoch 2/20\n",
      "30/30 [==============================] - 1s 17ms/step - loss: 0.3208 - accuracy: 0.9022 - val_loss: 0.3369 - val_accuracy: 0.8707\n",
      "Epoch 3/20\n",
      "30/30 [==============================] - 1s 18ms/step - loss: 0.2365 - accuracy: 0.9263 - val_loss: 0.3059 - val_accuracy: 0.8761\n",
      "Epoch 4/20\n",
      "30/30 [==============================] - 1s 17ms/step - loss: 0.1886 - accuracy: 0.9392 - val_loss: 0.2893 - val_accuracy: 0.8843\n",
      "Epoch 5/20\n",
      "30/30 [==============================] - 1s 18ms/step - loss: 0.1521 - accuracy: 0.9529 - val_loss: 0.2862 - val_accuracy: 0.8857\n",
      "Epoch 6/20\n",
      "30/30 [==============================] - 1s 18ms/step - loss: 0.1290 - accuracy: 0.9615 - val_loss: 0.2898 - val_accuracy: 0.8866\n",
      "Epoch 7/20\n",
      "30/30 [==============================] - 0s 16ms/step - loss: 0.1077 - accuracy: 0.9684 - val_loss: 0.3094 - val_accuracy: 0.8808\n",
      "Epoch 8/20\n",
      "30/30 [==============================] - 1s 17ms/step - loss: 0.0883 - accuracy: 0.9756 - val_loss: 0.3121 - val_accuracy: 0.8831\n",
      "Epoch 9/20\n",
      "30/30 [==============================] - 1s 17ms/step - loss: 0.0734 - accuracy: 0.9815 - val_loss: 0.3447 - val_accuracy: 0.8757\n",
      "Epoch 10/20\n",
      "30/30 [==============================] - 1s 19ms/step - loss: 0.0614 - accuracy: 0.9833 - val_loss: 0.3552 - val_accuracy: 0.8784\n",
      "Epoch 11/20\n",
      "30/30 [==============================] - 1s 17ms/step - loss: 0.0490 - accuracy: 0.9893 - val_loss: 0.3776 - val_accuracy: 0.8797\n",
      "Epoch 12/20\n",
      "30/30 [==============================] - 1s 20ms/step - loss: 0.0408 - accuracy: 0.9909 - val_loss: 0.4020 - val_accuracy: 0.8777\n",
      "Epoch 13/20\n",
      "30/30 [==============================] - 1s 17ms/step - loss: 0.0310 - accuracy: 0.9948 - val_loss: 0.4370 - val_accuracy: 0.8780\n",
      "Epoch 14/20\n",
      "30/30 [==============================] - 0s 16ms/step - loss: 0.0270 - accuracy: 0.9951 - val_loss: 0.4661 - val_accuracy: 0.8735\n",
      "Epoch 15/20\n",
      "30/30 [==============================] - 1s 19ms/step - loss: 0.0204 - accuracy: 0.9969 - val_loss: 0.4926 - val_accuracy: 0.8729\n",
      "Epoch 16/20\n",
      "30/30 [==============================] - 1s 19ms/step - loss: 0.0139 - accuracy: 0.9985 - val_loss: 0.5320 - val_accuracy: 0.8723\n",
      "Epoch 17/20\n",
      "30/30 [==============================] - 1s 17ms/step - loss: 0.0130 - accuracy: 0.9983 - val_loss: 0.5576 - val_accuracy: 0.8726\n",
      "Epoch 18/20\n",
      "30/30 [==============================] - 1s 18ms/step - loss: 0.0109 - accuracy: 0.9985 - val_loss: 0.5895 - val_accuracy: 0.8715\n",
      "Epoch 19/20\n",
      "30/30 [==============================] - 1s 19ms/step - loss: 0.0059 - accuracy: 0.9998 - val_loss: 0.6245 - val_accuracy: 0.8700\n",
      "Epoch 20/20\n",
      "30/30 [==============================] - 0s 14ms/step - loss: 0.0052 - accuracy: 0.9998 - val_loss: 0.6682 - val_accuracy: 0.8687\n"
     ]
    }
   ],
   "source": [
    "history = model.fit(partial_x_train, partial_y_train, epochs=20, batch_size=512, validation_data=(x_val, y_val))"
   ]
  },
  {
   "cell_type": "code",
   "execution_count": 13,
   "id": "d8a30f8e-06de-4c4c-9bed-4a031183cfb9",
   "metadata": {},
   "outputs": [],
   "source": [
    "# Note that the call to model.fit() returns a History object.\n",
    "# This object has a member history\n",
    "# which is a dictionary containing data about everything\n",
    "# that happened during training."
   ]
  },
  {
   "cell_type": "code",
   "execution_count": 14,
   "id": "c4b89e00-1875-4248-940d-f7b0d6fcbdde",
   "metadata": {},
   "outputs": [
    {
     "data": {
      "text/plain": [
       "dict_keys(['loss', 'accuracy', 'val_loss', 'val_accuracy'])"
      ]
     },
     "execution_count": 14,
     "metadata": {},
     "output_type": "execute_result"
    }
   ],
   "source": [
    "history_dict = history.history\n",
    "history_dict.keys()"
   ]
  },
  {
   "cell_type": "code",
   "execution_count": 15,
   "id": "03c9f2b5-7878-44f9-b9cf-188d5517d217",
   "metadata": {},
   "outputs": [
    {
     "data": {
      "image/png": "[encoded data removed]",
      "text/plain": [
       "<Figure size 432x288 with 1 Axes>"
      ]
     },
     "metadata": {
      "needs_background": "light"
     },
     "output_type": "display_data"
    }
   ],
   "source": [
    "import matplotlib.pyplot as plt\n",
    "\n",
    "\n",
    "loss_values = history_dict['loss']\n",
    "val_loss_values = history_dict['val_loss']\n",
    "epoches = range(1, len(loss_values) + 1)\n",
    "plt.plot(epoches, loss_values, 'bo', label='Training loss')\n",
    "plt.plot(epoches, val_loss_values, 'b', label='Validation loss')\n",
    "plt.title('Training and validation loss')\n",
    "plt.xlabel('Epoches')\n",
    "plt.ylabel('Loss')\n",
    "plt.legend()\n",
    "plt.show()"
   ]
  },
  {
   "cell_type": "code",
   "execution_count": 16,
   "id": "f6cace98-09d3-4097-9c23-b4588036aa33",
   "metadata": {},
   "outputs": [
    {
     "data": {
      "image/png": "[encoded data removed]",
      "text/plain": [
       "<Figure size 432x288 with 1 Axes>"
      ]
     },
     "metadata": {
      "needs_background": "light"
     },
     "output_type": "display_data"
    }
   ],
   "source": [
    "plt.clf()\n",
    "\n",
    "acc_values = history_dict['accuracy']\n",
    "val_acc_values = history_dict['val_accuracy']\n",
    "plt.plot(epoches, acc_values, 'bo', label='Training acc')\n",
    "plt.plot(epoches, val_acc_values, 'b', label='Validation acc')\n",
    "plt.title('Training and validation accuracy')\n",
    "plt.xlabel('Epoches')\n",
    "plt.ylabel('Accuracy')\n",
    "plt.legend()\n",
    "plt.show()"
   ]
  },
  {
   "cell_type": "code",
   "execution_count": null,
   "id": "389b7a9e-3e21-40ec-bfdb-6a95b50fa28b",
   "metadata": {},
   "outputs": [],
   "source": [
    "# overfitting\n",
    "# retraining with less epoches"
   ]
  },
  {
   "cell_type": "code",
   "execution_count": 20,
   "id": "ec546118-1b06-4e32-9d11-1e4fcc4944c5",
   "metadata": {},
   "outputs": [
    {
     "name": "stdout",
     "output_type": "stream",
     "text": [
      "Epoch 1/4\n",
      "49/49 [==============================] - 1s 17ms/step - loss: 0.0638 - accuracy: 0.9804\n",
      "Epoch 2/4\n",
      "49/49 [==============================] - 1s 13ms/step - loss: 0.0516 - accuracy: 0.9850\n",
      "Epoch 3/4\n",
      "49/49 [==============================] - 1s 14ms/step - loss: 0.0390 - accuracy: 0.9897\n",
      "Epoch 4/4\n",
      "49/49 [==============================] - 1s 10ms/step - loss: 0.0310 - accuracy: 0.9922\n",
      "782/782 [==============================] - 7s 9ms/step - loss: 0.6546 - accuracy: 0.8553\n"
     ]
    }
   ],
   "source": [
    "model.fit(x_train, y_train, epochs=4, batch_size=512)\n",
    "results = model.evaluate(x_test, y_test)"
   ]
  },
  {
   "cell_type": "code",
   "execution_count": 21,
   "id": "09c1c1f7-f442-444e-b63a-3b808cf84dee",
   "metadata": {},
   "outputs": [
    {
     "data": {
      "text/plain": [
       "[0.6546387076377869, 0.8553199768066406]"
      ]
     },
     "execution_count": 21,
     "metadata": {},
     "output_type": "execute_result"
    }
   ],
   "source": [
    "results"
   ]
  },
  {
   "cell_type": "code",
   "execution_count": 22,
   "id": "88535e85-8712-4885-8291-ebfb7324c3a3",
   "metadata": {},
   "outputs": [
    {
     "name": "stdout",
     "output_type": "stream",
     "text": [
      "782/782 [==============================] - 5s 6ms/step\n"
     ]
    },
    {
     "data": {
      "text/plain": [
       "array([[0.01516154],\n",
       "       [1.        ],\n",
       "       [0.9999485 ],\n",
       "       ...,\n",
       "       [0.04392422],\n",
       "       [0.03326931],\n",
       "       [0.99002117]], dtype=float32)"
      ]
     },
     "execution_count": 22,
     "metadata": {},
     "output_type": "execute_result"
    }
   ],
   "source": [
    "# use it\n",
    "\n",
    "model.predict(x_test)"
   ]
  }
 ],
 "metadata": {
  "kernelspec": {
   "display_name": "Python 3 (ipykernel)",
   "language": "python",
   "name": "python3"
  },
  "language_info": {
   "codemirror_mode": {
    "name": "ipython",
    "version": 3
   },
   "file_extension": ".py",
   "mimetype": "text/x-python",
   "name": "python",
   "nbconvert_exporter": "python",
   "pygments_lexer": "ipython3",
   "version": "3.10.5"
  }
 },
 "nbformat": 4,
 "nbformat_minor": 5
}
