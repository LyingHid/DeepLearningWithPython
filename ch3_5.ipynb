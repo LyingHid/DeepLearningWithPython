{
 "cells": [
  {
   "cell_type": "code",
   "execution_count": 1,
   "id": "c0706d3c-5938-47aa-aad0-4e7b0019d26d",
   "metadata": {},
   "outputs": [],
   "source": [
    "# build a network to classify Reuters newswires into 46 mutually exclusive topics.\n",
    "# single label, multiclass classification"
   ]
  },
  {
   "cell_type": "code",
   "execution_count": 2,
   "id": "72321612-9c48-4c37-9bef-c8e743ceb168",
   "metadata": {},
   "outputs": [
    {
     "name": "stdout",
     "output_type": "stream",
     "text": [
      "Downloading data from https://storage.googleapis.com/tensorflow/tf-keras-datasets/reuters.npz\n",
      "2110848/2110848 [==============================] - 0s 0us/step\n"
     ]
    }
   ],
   "source": [
    "from keras.datasets import reuters\n",
    "\n",
    "\n",
    "(train_data, train_labels), (test_data, test_labels) = reuters.load_data(num_words=10000)"
   ]
  },
  {
   "cell_type": "code",
   "execution_count": 6,
   "id": "d20e7197-3769-492a-8cf1-e6120187f0c7",
   "metadata": {},
   "outputs": [],
   "source": [
    "import numpy as np\n",
    "\n",
    "\n",
    "def vectorize_sequences(sequences, dimension=10000):\n",
    "    results = np.zeros((len(sequences), dimension))\n",
    "    for i, sequence in enumerate(sequences):\n",
    "        results[i, sequence] = 1\n",
    "    return results\n",
    "\n",
    "\n",
    "x_train = vectorize_sequences(train_data)\n",
    "x_test = vectorize_sequences(test_data)"
   ]
  },
  {
   "cell_type": "code",
   "execution_count": 8,
   "id": "8d0ee476-ae5e-48db-b073-1bc4ad4153a6",
   "metadata": {},
   "outputs": [],
   "source": [
    "def to_one_hot(labels, dimension=46):\n",
    "    results = np.zeros((len(labels), dimension))\n",
    "    for i, label in enumerate(labels):\n",
    "        results[i, label] = 1\n",
    "    return results\n",
    "\n",
    "\n",
    "one_hot_train_labels = to_one_hot(train_labels)\n",
    "one_hot_test_labels = to_one_hot(test_labels)"
   ]
  },
  {
   "cell_type": "code",
   "execution_count": 9,
   "id": "3b365a08-010b-4247-b373-36dcf40ca642",
   "metadata": {},
   "outputs": [
    {
     "name": "stderr",
     "output_type": "stream",
     "text": [
      "2022-07-20 13:07:27.938739: I tensorflow/core/platform/cpu_feature_guard.cc:193] This TensorFlow binary is optimized with oneAPI Deep Neural Network Library (oneDNN) to use the following CPU instructions in performance-critical operations:  SSE3 SSE4.1 SSE4.2 AVX AVX2 AVX512F AVX512_VNNI FMA\n",
      "To enable them in other operations, rebuild TensorFlow with the appropriate compiler flags.\n",
      "2022-07-20 13:07:27.942700: I tensorflow/core/common_runtime/process_util.cc:146] Creating new thread pool with default inter op setting: 2. Tune using inter_op_parallelism_threads for best performance.\n"
     ]
    }
   ],
   "source": [
    "from keras import models\n",
    "from keras import layers\n",
    "\n",
    "\n",
    "model = models.Sequential()\n",
    "model.add(layers.Dense(64, activation='relu'))\n",
    "model.add(layers.Dense(46, activation='softmax'))"
   ]
  },
  {
   "cell_type": "code",
   "execution_count": 10,
   "id": "2997396d-c713-4532-9107-e123db4c6af6",
   "metadata": {},
   "outputs": [],
   "source": [
    "model.compile(optimizer='rmsprop', loss='categorical_crossentropy', metrics=['accuracy'])"
   ]
  },
  {
   "cell_type": "code",
   "execution_count": 11,
   "id": "f0b01add-b540-4fde-a377-924156822010",
   "metadata": {},
   "outputs": [],
   "source": [
    "x_val = x_train[:1000]\n",
    "partial_x_train = x_train[1000:]\n",
    "y_val = one_hot_train_labels[:1000]\n",
    "partial_y_train = one_hot_train_labels[1000:]"
   ]
  },
  {
   "cell_type": "code",
   "execution_count": 13,
   "id": "cfd0f988-19c2-4e0a-a718-3496254982bd",
   "metadata": {},
   "outputs": [
    {
     "name": "stdout",
     "output_type": "stream",
     "text": [
      "Epoch 1/20\n",
      "16/16 [==============================] - 1s 48ms/step - loss: 2.7441 - accuracy: 0.5519 - val_loss: 1.9593 - val_accuracy: 0.6510\n",
      "Epoch 2/20\n",
      "16/16 [==============================] - 1s 34ms/step - loss: 1.5842 - accuracy: 0.7154 - val_loss: 1.4189 - val_accuracy: 0.7220\n",
      "Epoch 3/20\n",
      "16/16 [==============================] - 0s 28ms/step - loss: 1.1292 - accuracy: 0.7798 - val_loss: 1.1741 - val_accuracy: 0.7650\n",
      "Epoch 4/20\n",
      "16/16 [==============================] - 0s 24ms/step - loss: 0.8655 - accuracy: 0.8297 - val_loss: 1.0372 - val_accuracy: 0.7850\n",
      "Epoch 5/20\n",
      "16/16 [==============================] - 0s 25ms/step - loss: 0.6904 - accuracy: 0.8652 - val_loss: 0.9575 - val_accuracy: 0.8020\n",
      "Epoch 6/20\n",
      "16/16 [==============================] - 0s 26ms/step - loss: 0.5609 - accuracy: 0.8953 - val_loss: 0.9097 - val_accuracy: 0.8160\n",
      "Epoch 7/20\n",
      "16/16 [==============================] - 0s 27ms/step - loss: 0.4619 - accuracy: 0.9083 - val_loss: 0.8689 - val_accuracy: 0.8190\n",
      "Epoch 8/20\n",
      "16/16 [==============================] - 0s 27ms/step - loss: 0.3871 - accuracy: 0.9219 - val_loss: 0.8408 - val_accuracy: 0.8200\n",
      "Epoch 9/20\n",
      "16/16 [==============================] - 0s 27ms/step - loss: 0.3235 - accuracy: 0.9334 - val_loss: 0.8293 - val_accuracy: 0.8210\n",
      "Epoch 10/20\n",
      "16/16 [==============================] - 0s 25ms/step - loss: 0.2772 - accuracy: 0.9434 - val_loss: 0.8381 - val_accuracy: 0.8190\n",
      "Epoch 11/20\n",
      "16/16 [==============================] - 0s 26ms/step - loss: 0.2379 - accuracy: 0.9465 - val_loss: 0.8339 - val_accuracy: 0.8180\n",
      "Epoch 12/20\n",
      "16/16 [==============================] - 0s 28ms/step - loss: 0.2098 - accuracy: 0.9485 - val_loss: 0.8345 - val_accuracy: 0.8190\n",
      "Epoch 13/20\n",
      "16/16 [==============================] - 0s 25ms/step - loss: 0.1851 - accuracy: 0.9508 - val_loss: 0.8534 - val_accuracy: 0.8180\n",
      "Epoch 14/20\n",
      "16/16 [==============================] - 0s 24ms/step - loss: 0.1681 - accuracy: 0.9535 - val_loss: 0.8620 - val_accuracy: 0.8150\n",
      "Epoch 15/20\n",
      "16/16 [==============================] - 0s 25ms/step - loss: 0.1527 - accuracy: 0.9545 - val_loss: 0.8776 - val_accuracy: 0.8160\n",
      "Epoch 16/20\n",
      "16/16 [==============================] - 0s 24ms/step - loss: 0.1401 - accuracy: 0.9555 - val_loss: 0.8946 - val_accuracy: 0.8150\n",
      "Epoch 17/20\n",
      "16/16 [==============================] - 0s 23ms/step - loss: 0.1306 - accuracy: 0.9563 - val_loss: 0.9054 - val_accuracy: 0.8150\n",
      "Epoch 18/20\n",
      "16/16 [==============================] - 0s 23ms/step - loss: 0.1242 - accuracy: 0.9563 - val_loss: 0.9010 - val_accuracy: 0.8150\n",
      "Epoch 19/20\n",
      "16/16 [==============================] - 0s 24ms/step - loss: 0.1162 - accuracy: 0.9560 - val_loss: 0.9166 - val_accuracy: 0.8120\n",
      "Epoch 20/20\n",
      "16/16 [==============================] - 0s 27ms/step - loss: 0.1125 - accuracy: 0.9575 - val_loss: 0.9451 - val_accuracy: 0.8140\n"
     ]
    }
   ],
   "source": [
    "history = model.fit(partial_x_train, partial_y_train, epochs=20, batch_size=512, validation_data=(x_val, y_val))"
   ]
  },
  {
   "cell_type": "code",
   "execution_count": 17,
   "id": "4de76857-0264-4b3e-9664-eccc6756462e",
   "metadata": {},
   "outputs": [
    {
     "data": {
      "image/png": "[encoded data removed]",
      "text/plain": [
       "<Figure size 432x288 with 1 Axes>"
      ]
     },
     "metadata": {
      "needs_background": "light"
     },
     "output_type": "display_data"
    }
   ],
   "source": [
    "import matplotlib.pyplot as plt\n",
    "\n",
    "\n",
    "loss = history.history['loss']\n",
    "val_loss = history.history['val_loss']\n",
    "epochs = range(1, len(loss) + 1)\n",
    "plt.plot(epochs, loss, 'bo', label='Training loss')\n",
    "plt.plot(epochs, val_loss, 'b', label='Validation loss')\n",
    "plt.title('Training and validation loss')\n",
    "plt.xlabel('Epochs')\n",
    "plt.ylabel('Loss')\n",
    "plt.legend()\n",
    "plt.show()"
   ]
  },
  {
   "cell_type": "code",
   "execution_count": 19,
   "id": "40c0e2c0-393e-4940-836d-62e392dff728",
   "metadata": {},
   "outputs": [
    {
     "data": {
      "image/png": "[encoded data removed]",
      "text/plain": [
       "<Figure size 432x288 with 1 Axes>"
      ]
     },
     "metadata": {
      "needs_background": "light"
     },
     "output_type": "display_data"
    }
   ],
   "source": [
    "plt.clf()\n",
    "\n",
    "acc = history.history['accuracy']\n",
    "val_acc = history.history['val_accuracy']\n",
    "\n",
    "plt.plot(epochs, acc, 'bo', label='Training acc')\n",
    "plt.plot(epochs, val_acc, 'b', label='Validation acc')\n",
    "plt.title('Training and validation accuracy')\n",
    "plt.xlabel('Epochs')\n",
    "plt.ylabel('Loss')\n",
    "plt.legend()\n",
    "plt.show()"
   ]
  },
  {
   "cell_type": "code",
   "execution_count": 20,
   "id": "1f8430b0-9fdf-4d31-a97d-8cd8d142a70b",
   "metadata": {},
   "outputs": [
    {
     "name": "stdout",
     "output_type": "stream",
     "text": [
      "Epoch 1/9\n",
      "16/16 [==============================] - 1s 37ms/step - loss: 0.1067 - accuracy: 0.9573 - val_loss: 0.9819 - val_accuracy: 0.8070\n",
      "Epoch 2/9\n",
      "16/16 [==============================] - 0s 28ms/step - loss: 0.1039 - accuracy: 0.9575 - val_loss: 0.9680 - val_accuracy: 0.8100\n",
      "Epoch 3/9\n",
      "16/16 [==============================] - 0s 25ms/step - loss: 0.1000 - accuracy: 0.9570 - val_loss: 0.9703 - val_accuracy: 0.8100\n",
      "Epoch 4/9\n",
      "16/16 [==============================] - 0s 25ms/step - loss: 0.0983 - accuracy: 0.9567 - val_loss: 0.9967 - val_accuracy: 0.8060\n",
      "Epoch 5/9\n",
      "16/16 [==============================] - 0s 26ms/step - loss: 0.0967 - accuracy: 0.9577 - val_loss: 0.9993 - val_accuracy: 0.8070\n",
      "Epoch 6/9\n",
      "16/16 [==============================] - 0s 26ms/step - loss: 0.0937 - accuracy: 0.9585 - val_loss: 1.0268 - val_accuracy: 0.8030\n",
      "Epoch 7/9\n",
      "16/16 [==============================] - 1s 32ms/step - loss: 0.0923 - accuracy: 0.9564 - val_loss: 1.0380 - val_accuracy: 0.8060\n",
      "Epoch 8/9\n",
      "16/16 [==============================] - 0s 27ms/step - loss: 0.0906 - accuracy: 0.9564 - val_loss: 1.0602 - val_accuracy: 0.8020\n",
      "Epoch 9/9\n",
      "16/16 [==============================] - 0s 25ms/step - loss: 0.0887 - accuracy: 0.9572 - val_loss: 1.0736 - val_accuracy: 0.8010\n"
     ]
    }
   ],
   "source": [
    "history = model.fit(partial_x_train, partial_y_train, epochs=9, batch_size=512, validation_data=(x_val, y_val))"
   ]
  },
  {
   "cell_type": "code",
   "execution_count": 21,
   "id": "d9ff3995-5637-45c9-9cbb-6d4edbd19bf9",
   "metadata": {},
   "outputs": [
    {
     "name": "stdout",
     "output_type": "stream",
     "text": [
      "71/71 [==============================] - 1s 19ms/step - loss: 1.2185 - accuracy: 0.7912\n"
     ]
    }
   ],
   "source": [
    "results = model.evaluate(x_test, one_hot_test_labels)"
   ]
  },
  {
   "cell_type": "code",
   "execution_count": 22,
   "id": "c60b906d-c878-4f8f-99af-392d0095f590",
   "metadata": {},
   "outputs": [
    {
     "name": "stdout",
     "output_type": "stream",
     "text": [
      "[1.2185437679290771, 0.7911843061447144]\n"
     ]
    }
   ],
   "source": [
    "print(results)"
   ]
  },
  {
   "cell_type": "code",
   "execution_count": 23,
   "id": "dc0a7bb9-d722-4dc6-a637-3c72a85897f9",
   "metadata": {},
   "outputs": [
    {
     "name": "stdout",
     "output_type": "stream",
     "text": [
      "71/71 [==============================] - 0s 5ms/step\n"
     ]
    }
   ],
   "source": [
    "predictions = model.predict(x_test)"
   ]
  },
  {
   "cell_type": "code",
   "execution_count": 24,
   "id": "cadd4eec-0fd8-4a91-b663-20fc4ef8ca25",
   "metadata": {},
   "outputs": [
    {
     "name": "stdout",
     "output_type": "stream",
     "text": [
      "[3.99542341e-06 9.81793437e-06 6.64472793e-07 9.48071003e-01\n",
      " 5.08266315e-02 2.82585297e-08 3.84920078e-08 2.34577965e-06\n",
      " 1.49642612e-04 6.12447866e-06 2.40768350e-05 7.82245479e-05\n",
      " 8.96772633e-07 2.71492190e-05 4.99168152e-07 1.48944101e-08\n",
      " 6.20080755e-05 1.11477937e-06 4.14982082e-07 5.10341604e-04\n",
      " 1.21173987e-04 3.80316487e-05 8.70694663e-08 1.44142007e-06\n",
      " 3.02716359e-07 2.48891456e-06 4.05862988e-09 4.66405830e-08\n",
      " 7.84056510e-07 2.64743812e-06 1.14660315e-05 1.64217067e-08\n",
      " 8.13632198e-07 4.43872565e-08 1.69717566e-06 2.61826301e-07\n",
      " 3.47752830e-05 3.19953756e-06 1.59927390e-06 2.21559594e-06\n",
      " 4.42171853e-07 6.90165223e-07 3.10417092e-09 7.16962916e-08\n",
      " 4.88551033e-10 5.84397640e-07]\n"
     ]
    }
   ],
   "source": [
    "print(predictions[0])"
   ]
  }
 ],
 "metadata": {
  "kernelspec": {
   "display_name": "Python 3 (ipykernel)",
   "language": "python",
   "name": "python3"
  },
  "language_info": {
   "codemirror_mode": {
    "name": "ipython",
    "version": 3
   },
   "file_extension": ".py",
   "mimetype": "text/x-python",
   "name": "python",
   "nbconvert_exporter": "python",
   "pygments_lexer": "ipython3",
   "version": "3.10.5"
  }
 },
 "nbformat": 4,
 "nbformat_minor": 5
}
