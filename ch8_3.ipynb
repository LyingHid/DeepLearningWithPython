{
 "cells": [
  {
   "cell_type": "markdown",
   "id": "3db04e33-ad87-4d44-afb2-8344a04a00c9",
   "metadata": {},
   "source": [
    "# Neural style transfer"
   ]
  },
  {
   "cell_type": "markdown",
   "id": "092fa12e-42af-4ccd-9c9b-774134342deb",
   "metadata": {},
   "source": [
    "The key notion behind implementing style transfer is the same idea that’s central\n",
    "to all deep-learning algorithms: you define a loss function to specify what you want to\n",
    "achieve, and you minimize this loss. You know what you want to achieve: conserving\n",
    "the content of the original image while adopting the style of the reference image. If\n",
    "we were able to mathematically define content and style, then an appropriate loss func-\n",
    "tion to minimize would be the following:\n",
    "\n",
    "\n",
    "`loss = distance(style(reference_image) - style(generated_image)) + distance(content(original_image) - content(generated_image))`"
   ]
  },
  {
   "cell_type": "markdown",
   "id": "36d8568e-9040-467d-bbe6-a3690862839b",
   "metadata": {},
   "source": [
    "卷积网络：底层表达局部信息，高层表达整体信息。因此卷积的内容是否相似，可以从高层中计算得到；风格是否相似，可以从底层中计算得到。"
   ]
  }
 ],
 "metadata": {
  "kernelspec": {
   "display_name": "Python 3 (ipykernel)",
   "language": "python",
   "name": "python3"
  },
  "language_info": {
   "codemirror_mode": {
    "name": "ipython",
    "version": 3
   },
   "file_extension": ".py",
   "mimetype": "text/x-python",
   "name": "python",
   "nbconvert_exporter": "python",
   "pygments_lexer": "ipython3",
   "version": "3.10.6"
  }
 },
 "nbformat": 4,
 "nbformat_minor": 5
}
