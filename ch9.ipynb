{
 "cells": [
  {
   "cell_type": "markdown",
   "id": "3dd89de4-e218-4939-8f24-512132dec4e7",
   "metadata": {},
   "source": [
    "# Conclusions"
   ]
  },
  {
   "cell_type": "markdown",
   "id": "df7970fc-c032-4af1-88d3-5f7881b7469d",
   "metadata": {},
   "source": [
    "## Staying up to date in a fast-moving field"
   ]
  },
  {
   "cell_type": "markdown",
   "id": "f9a38e17-e5a3-4428-8cae-15e1843b287b",
   "metadata": {},
   "source": [
    "### Practice on real-world problems using Kaggle"
   ]
  },
  {
   "cell_type": "markdown",
   "id": "0ecbcc5b-48ee-4814-a9e0-d1846652c036",
   "metadata": {},
   "source": [
    "### Read about the latest developments on arXiv"
   ]
  },
  {
   "cell_type": "markdown",
   "id": "0e67ae03-246e-4731-b933-20ad7b404867",
   "metadata": {},
   "source": [
    "### Explore the Keras ecosystem"
   ]
  }
 ],
 "metadata": {
  "kernelspec": {
   "display_name": "Python 3 (ipykernel)",
   "language": "python",
   "name": "python3"
  },
  "language_info": {
   "codemirror_mode": {
    "name": "ipython",
    "version": 3
   },
   "file_extension": ".py",
   "mimetype": "text/x-python",
   "name": "python",
   "nbconvert_exporter": "python",
   "pygments_lexer": "ipython3",
   "version": "3.10.6"
  }
 },
 "nbformat": 4,
 "nbformat_minor": 5
}
