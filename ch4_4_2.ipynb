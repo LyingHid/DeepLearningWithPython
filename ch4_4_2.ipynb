{
 "cells": [
  {
   "cell_type": "code",
   "execution_count": 1,
   "id": "639b8842-c5f5-4bb5-b78b-db30db3f8705",
   "metadata": {},
   "outputs": [],
   "source": [
    "# loading the IMDB dataset\n",
    "\n",
    "from keras.datasets import imdb\n",
    "(train_data, train_labels), (test_data, test_labels) = imdb.load_data(num_words=10000)"
   ]
  },
  {
   "cell_type": "code",
   "execution_count": 2,
   "id": "13945d70-1071-4c63-83e9-e3422f0b6ad4",
   "metadata": {},
   "outputs": [],
   "source": [
    "import numpy as np\n",
    "\n",
    "\n",
    "def vectorize_sequences(sequences, demension=10000):\n",
    "    results = np.zeros((len(sequences), demension))\n",
    "    for i, sequence in enumerate(sequences):\n",
    "        results[i, sequence] = 1\n",
    "    return results\n",
    "\n",
    "\n",
    "x_train = vectorize_sequences(train_data)\n",
    "x_test = vectorize_sequences(test_data)"
   ]
  },
  {
   "cell_type": "code",
   "execution_count": 3,
   "id": "76c82c56-f88d-49aa-a544-2a11095a9ab4",
   "metadata": {},
   "outputs": [],
   "source": [
    "# vectorize labels\n",
    "\n",
    "y_train = np.asarray(train_labels).astype('float32')\n",
    "y_test = np.asarray(test_labels).astype('float32')"
   ]
  },
  {
   "cell_type": "code",
   "execution_count": 5,
   "id": "747b64a5-c249-4bd4-9931-e6831a9c5c71",
   "metadata": {},
   "outputs": [],
   "source": [
    "from keras import models\n",
    "from keras import layers\n",
    "from keras import regularizers\n",
    "\n",
    "\n",
    "model = models.Sequential()\n",
    "model.add(layers.Dense(16, activation='relu', input_shape=(10000,)))\n",
    "model.add(layers.Dense(16, activation='relu'))\n",
    "model.add(layers.Dense(1, activation='sigmoid'))\n",
    "\n",
    "modelr = models.Sequential()\n",
    "modelr.add(layers.Dense(16, activation='relu', kernel_regularizer=regularizers.l2(0.001), input_shape=(10000,)))\n",
    "modelr.add(layers.Dense(16, activation='relu'))\n",
    "modelr.add(layers.Dense(1, activation='sigmoid'))"
   ]
  },
  {
   "cell_type": "code",
   "execution_count": 6,
   "id": "62690107-9436-4d6f-9ea6-77962c017e3b",
   "metadata": {},
   "outputs": [],
   "source": [
    "model.compile(optimizer='rmsprop', loss='binary_crossentropy', metrics='accuracy')\n",
    "modelr.compile(optimizer='rmsprop', loss='binary_crossentropy', metrics='accuracy')"
   ]
  },
  {
   "cell_type": "code",
   "execution_count": 7,
   "id": "b2c849ca-bd05-44d5-8c78-6bd553604354",
   "metadata": {},
   "outputs": [],
   "source": [
    "x_val = x_train[:10000]\n",
    "partial_x_train = x_train[10000:]\n",
    "y_val = y_train[:10000]\n",
    "partial_y_train = y_train[10000:]"
   ]
  },
  {
   "cell_type": "code",
   "execution_count": 8,
   "id": "e28c0ed9-1854-42c2-bf30-103583e7f27c",
   "metadata": {},
   "outputs": [
    {
     "name": "stdout",
     "output_type": "stream",
     "text": [
      "Epoch 1/20\n",
      "30/30 [==============================] - 2s 41ms/step - loss: 0.5083 - accuracy: 0.7850 - val_loss: 0.3930 - val_accuracy: 0.8581\n",
      "Epoch 2/20\n",
      "30/30 [==============================] - 1s 17ms/step - loss: 0.3048 - accuracy: 0.8999 - val_loss: 0.3028 - val_accuracy: 0.8885\n",
      "Epoch 3/20\n",
      "30/30 [==============================] - 1s 17ms/step - loss: 0.2246 - accuracy: 0.9259 - val_loss: 0.2816 - val_accuracy: 0.8874\n",
      "Epoch 4/20\n",
      "30/30 [==============================] - 1s 20ms/step - loss: 0.1734 - accuracy: 0.9447 - val_loss: 0.2762 - val_accuracy: 0.8901\n",
      "Epoch 5/20\n",
      "30/30 [==============================] - 0s 15ms/step - loss: 0.1417 - accuracy: 0.9550 - val_loss: 0.3094 - val_accuracy: 0.8791\n",
      "Epoch 6/20\n",
      "30/30 [==============================] - 0s 16ms/step - loss: 0.1190 - accuracy: 0.9621 - val_loss: 0.2951 - val_accuracy: 0.8849\n",
      "Epoch 7/20\n",
      "30/30 [==============================] - 1s 24ms/step - loss: 0.0974 - accuracy: 0.9701 - val_loss: 0.3114 - val_accuracy: 0.8822\n",
      "Epoch 8/20\n",
      "30/30 [==============================] - 1s 17ms/step - loss: 0.0804 - accuracy: 0.9770 - val_loss: 0.3593 - val_accuracy: 0.8727\n",
      "Epoch 9/20\n",
      "30/30 [==============================] - 1s 17ms/step - loss: 0.0672 - accuracy: 0.9828 - val_loss: 0.3972 - val_accuracy: 0.8714\n",
      "Epoch 10/20\n",
      "30/30 [==============================] - 1s 19ms/step - loss: 0.0579 - accuracy: 0.9847 - val_loss: 0.3949 - val_accuracy: 0.8760\n",
      "Epoch 11/20\n",
      "30/30 [==============================] - 0s 16ms/step - loss: 0.0451 - accuracy: 0.9897 - val_loss: 0.4098 - val_accuracy: 0.8765\n",
      "Epoch 12/20\n",
      "30/30 [==============================] - 0s 16ms/step - loss: 0.0392 - accuracy: 0.9911 - val_loss: 0.4418 - val_accuracy: 0.8726\n",
      "Epoch 13/20\n",
      "30/30 [==============================] - 1s 17ms/step - loss: 0.0305 - accuracy: 0.9936 - val_loss: 0.4705 - val_accuracy: 0.8712\n",
      "Epoch 14/20\n",
      "30/30 [==============================] - 1s 17ms/step - loss: 0.0241 - accuracy: 0.9952 - val_loss: 0.5004 - val_accuracy: 0.8720\n",
      "Epoch 15/20\n",
      "30/30 [==============================] - 1s 18ms/step - loss: 0.0192 - accuracy: 0.9970 - val_loss: 0.5544 - val_accuracy: 0.8659\n",
      "Epoch 16/20\n",
      "30/30 [==============================] - 0s 16ms/step - loss: 0.0157 - accuracy: 0.9985 - val_loss: 0.5790 - val_accuracy: 0.8699\n",
      "Epoch 17/20\n",
      "30/30 [==============================] - 0s 15ms/step - loss: 0.0138 - accuracy: 0.9979 - val_loss: 0.6078 - val_accuracy: 0.8672\n",
      "Epoch 18/20\n",
      "30/30 [==============================] - 0s 17ms/step - loss: 0.0109 - accuracy: 0.9986 - val_loss: 0.6437 - val_accuracy: 0.8673\n",
      "Epoch 19/20\n",
      "30/30 [==============================] - 1s 17ms/step - loss: 0.0073 - accuracy: 0.9992 - val_loss: 0.7522 - val_accuracy: 0.8555\n",
      "Epoch 20/20\n",
      "30/30 [==============================] - 0s 14ms/step - loss: 0.0051 - accuracy: 0.9997 - val_loss: 0.7072 - val_accuracy: 0.8661\n",
      "Epoch 1/20\n",
      "30/30 [==============================] - 2s 39ms/step - loss: 0.5904 - accuracy: 0.7498 - val_loss: 0.4637 - val_accuracy: 0.8678\n",
      "Epoch 2/20\n",
      "30/30 [==============================] - 1s 19ms/step - loss: 0.3821 - accuracy: 0.8930 - val_loss: 0.3604 - val_accuracy: 0.8847\n",
      "Epoch 3/20\n",
      "30/30 [==============================] - 1s 19ms/step - loss: 0.2980 - accuracy: 0.9130 - val_loss: 0.3303 - val_accuracy: 0.8869\n",
      "Epoch 4/20\n",
      "30/30 [==============================] - 1s 19ms/step - loss: 0.2562 - accuracy: 0.9281 - val_loss: 0.3197 - val_accuracy: 0.8886\n",
      "Epoch 5/20\n",
      "30/30 [==============================] - 1s 22ms/step - loss: 0.2279 - accuracy: 0.9383 - val_loss: 0.3460 - val_accuracy: 0.8765\n",
      "Epoch 6/20\n",
      "30/30 [==============================] - 1s 17ms/step - loss: 0.2093 - accuracy: 0.9458 - val_loss: 0.3327 - val_accuracy: 0.8845\n",
      "Epoch 7/20\n",
      "30/30 [==============================] - 1s 17ms/step - loss: 0.1963 - accuracy: 0.9513 - val_loss: 0.3575 - val_accuracy: 0.8736\n",
      "Epoch 8/20\n",
      "30/30 [==============================] - 1s 20ms/step - loss: 0.1899 - accuracy: 0.9516 - val_loss: 0.3418 - val_accuracy: 0.8795\n",
      "Epoch 9/20\n",
      "30/30 [==============================] - 1s 17ms/step - loss: 0.1757 - accuracy: 0.9593 - val_loss: 0.3552 - val_accuracy: 0.8762\n",
      "Epoch 10/20\n",
      "30/30 [==============================] - 1s 18ms/step - loss: 0.1712 - accuracy: 0.9579 - val_loss: 0.4137 - val_accuracy: 0.8679\n",
      "Epoch 11/20\n",
      "30/30 [==============================] - 1s 18ms/step - loss: 0.1630 - accuracy: 0.9644 - val_loss: 0.3874 - val_accuracy: 0.8757\n",
      "Epoch 12/20\n",
      "30/30 [==============================] - 1s 17ms/step - loss: 0.1591 - accuracy: 0.9655 - val_loss: 0.3926 - val_accuracy: 0.8770\n",
      "Epoch 13/20\n",
      "30/30 [==============================] - 0s 16ms/step - loss: 0.1525 - accuracy: 0.9671 - val_loss: 0.3845 - val_accuracy: 0.8770\n",
      "Epoch 14/20\n",
      "30/30 [==============================] - 0s 16ms/step - loss: 0.1512 - accuracy: 0.9667 - val_loss: 0.3906 - val_accuracy: 0.8755\n",
      "Epoch 15/20\n",
      "30/30 [==============================] - 0s 16ms/step - loss: 0.1388 - accuracy: 0.9725 - val_loss: 0.3914 - val_accuracy: 0.8744\n",
      "Epoch 16/20\n",
      "30/30 [==============================] - 1s 18ms/step - loss: 0.1429 - accuracy: 0.9681 - val_loss: 0.4085 - val_accuracy: 0.8703\n",
      "Epoch 17/20\n",
      "30/30 [==============================] - 1s 17ms/step - loss: 0.1372 - accuracy: 0.9719 - val_loss: 0.4195 - val_accuracy: 0.8747\n",
      "Epoch 18/20\n",
      "30/30 [==============================] - 1s 22ms/step - loss: 0.1301 - accuracy: 0.9736 - val_loss: 0.4173 - val_accuracy: 0.8727\n",
      "Epoch 19/20\n",
      "30/30 [==============================] - 1s 18ms/step - loss: 0.1300 - accuracy: 0.9737 - val_loss: 0.4473 - val_accuracy: 0.8626\n",
      "Epoch 20/20\n",
      "30/30 [==============================] - 0s 14ms/step - loss: 0.1296 - accuracy: 0.9729 - val_loss: 0.4520 - val_accuracy: 0.8646\n"
     ]
    }
   ],
   "source": [
    "history = model.fit(partial_x_train, partial_y_train, epochs=20, batch_size=512, validation_data=(x_val, y_val))\n",
    "historyr = modelr.fit(partial_x_train, partial_y_train, epochs=20, batch_size=512, validation_data=(x_val, y_val))"
   ]
  },
  {
   "cell_type": "code",
   "execution_count": 10,
   "id": "03c9f2b5-7878-44f9-b9cf-188d5517d217",
   "metadata": {},
   "outputs": [
    {
     "data": {
      "image/png": "[encoded data removed]",
      "text/plain": [
       "<Figure size 432x288 with 1 Axes>"
      ]
     },
     "metadata": {
      "needs_background": "light"
     },
     "output_type": "display_data"
    }
   ],
   "source": [
    "import matplotlib.pyplot as plt\n",
    "\n",
    "\n",
    "val_loss_values = history.history['val_loss']\n",
    "epoches = range(1, len(val_loss_values) + 1)\n",
    "plt.plot(epoches, val_loss_values, '-', label='model')\n",
    "\n",
    "val_loss_values = historyr.history['val_loss']\n",
    "epoches = range(1, len(val_loss_values) + 1)\n",
    "plt.plot(epoches, val_loss_values, '+', label='modelr')\n",
    "\n",
    "plt.xlabel('Epoches')\n",
    "plt.ylabel('Validation loss')\n",
    "plt.legend()\n",
    "plt.show()"
   ]
  }
 ],
 "metadata": {
  "kernelspec": {
   "display_name": "Python 3 (ipykernel)",
   "language": "python",
   "name": "python3"
  },
  "language_info": {
   "codemirror_mode": {
    "name": "ipython",
    "version": 3
   },
   "file_extension": ".py",
   "mimetype": "text/x-python",
   "name": "python",
   "nbconvert_exporter": "python",
   "pygments_lexer": "ipython3",
   "version": "3.10.5"
  }
 },
 "nbformat": 4,
 "nbformat_minor": 5
}
