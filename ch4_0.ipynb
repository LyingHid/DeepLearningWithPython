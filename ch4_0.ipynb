{
 "cells": [
  {
   "cell_type": "markdown",
   "id": "1aec19e5-2c5c-48a9-93c1-ac72b330d570",
   "metadata": {},
   "source": [
    "Chapter 4. Fundamentals of machine learning"
   ]
  },
  {
   "cell_type": "markdown",
   "id": "5e6359e4-feea-416a-9285-5508afdced51",
   "metadata": {},
   "source": [
    "Four branches of machine learning"
   ]
  },
  {
   "cell_type": "markdown",
   "id": "b14ced3f-7ca5-4697-ae42-afe87e601901",
   "metadata": {},
   "source": [
    "Supervised learning\n",
    "\n",
    "It consists of learning to map input data to known targets (also called annotations), \n",
    "given a set of examples (often annotated by humans)."
   ]
  },
  {
   "cell_type": "markdown",
   "id": "d057505c-6a72-45e5-a4ae-ad8304e38407",
   "metadata": {},
   "source": [
    "Unsupervised learning\n",
    "\n",
    "This branch of machine learning consists of finding interesting transformations of the input data \n",
    "without the help of any targets, \n",
    "for the purposes of data visualization, data compression, or data denoising, \n",
    "or to better understand the correlations present in the data at hand."
   ]
  },
  {
   "cell_type": "markdown",
   "id": "49e0a0b9-774f-4e93-9248-3cbdc48743b3",
   "metadata": {},
   "source": [
    "Self-supervised learning\n",
    "\n",
    "Self-supervised learning is supervised learning without human-annotated labels --\n",
    "you can think of it as supervised learning without any humans in the loop."
   ]
  },
  {
   "cell_type": "markdown",
   "id": "df124aa9-822c-4735-bf29-eb7f2be4c800",
   "metadata": {},
   "source": [
    "Reinforcement learning\n",
    "\n",
    "In reinforcement learning, \n",
    "an agent receives information about its environment and learns to choose actions that will maximize some reward."
   ]
  },
  {
   "cell_type": "markdown",
   "id": "d9ffac4b-1f5f-4e9e-bfbc-bda32c7a13de",
   "metadata": {},
   "source": [
    "Evaluating machine-learning models"
   ]
  },
  {
   "cell_type": "markdown",
   "id": "64cff9ff-7451-412e-bda1-64ea963e032d",
   "metadata": {},
   "source": [
    "Training, validation, and test sets"
   ]
  },
  {
   "cell_type": "markdown",
   "id": "2830340b-79d7-48b9-a8ef-fb343ba13ccd",
   "metadata": {},
   "source": [
    "Once your model is ready for prime time, you test it one final time on the test data.\n",
    "Information leaks: \n",
    "Every time you tune a hyperparameter of your model based on the model’s performance on the validation set, \n",
    "some information about the validation data leaks into the model.\n"
   ]
  },
  {
   "cell_type": "markdown",
   "id": "71bd504a-5601-46d0-a0b1-2938747defb9",
   "metadata": {},
   "source": [
    "Simple hold-out validation"
   ]
  },
  {
   "cell_type": "markdown",
   "id": "1ce54481-21b2-44fd-ba65-e8e7994ab4c5",
   "metadata": {},
   "source": [
    "Set apart some fraction of your data as your test set."
   ]
  },
  {
   "cell_type": "markdown",
   "id": "3068c666-1784-4a35-8937-667c8a4b4f74",
   "metadata": {},
   "source": [
    "K-fold validation\n",
    "\n",
    "With this approach, you split your data into K partitions of equal size. \n",
    "For each partition i, train a model on the remaining K – 1 partitions, and evaluate it on partition i. \n",
    "Your final score is then the averages of the K scores obtained."
   ]
  },
  {
   "cell_type": "markdown",
   "id": "643c73c2-46e4-4da2-a3f2-4450ceec3f8b",
   "metadata": {},
   "source": [
    "Iterated K-fold validation with shuffling\n",
    "\n",
    "It consists of applying K-fold validation multiple times, \n",
    "shuffling the data every time before splitting it K ways. \n",
    "Data representativeness 数据可能被排序了，需要先打乱。\n",
    "The arrow of time 数据在时间上有先后关系不能打乱。\n",
    "Redundancy in your data 数据有冗余，可能同时出现在训练集和测试集中。\n",
    "The final score is the average of the scores obtained at each run of K-fold validation."
   ]
  },
  {
   "cell_type": "markdown",
   "id": "8cff824d-7221-41b6-afe5-281667945def",
   "metadata": {},
   "source": [
    "Data representativeness 数据可能被排序了，需要先打乱。\n",
    "The arrow of time 数据在时间上有先后关系不能打乱。\n",
    "Redundancy in your data 数据有冗余，可能同时出现在训练集和测试集中。"
   ]
  },
  {
   "cell_type": "markdown",
   "id": "ab713832-4e78-4754-b995-4b59616e6819",
   "metadata": {},
   "source": [
    "Data preprocessing, feature engineering, and feature learning"
   ]
  },
  {
   "cell_type": "markdown",
   "id": "bfdf83a4-60f7-4a71-b86c-096c661a1a95",
   "metadata": {},
   "source": [
    "Vectorization\n",
    "\n",
    "Whatever data you need to process—sound, images, text—you must first turn into tensors, \n",
    "a step called data vectorization."
   ]
  },
  {
   "cell_type": "markdown",
   "id": "d3cdedf4-c033-46cc-a5c8-41596ef951da",
   "metadata": {},
   "source": [
    "Value normalization\n",
    "\n",
    "让数据在 0-1 之间，不同特征的值域大致相同。\n",
    "可以进一步将数据归一化到均值为 0，方差为 1 的区间。"
   ]
  },
  {
   "cell_type": "markdown",
   "id": "6634d2e8-7634-4718-aa5b-644c9e4ebbbc",
   "metadata": {},
   "source": [
    "Handling missing values"
   ]
  },
  {
   "cell_type": "markdown",
   "id": "12e34a2f-a025-4af9-b8df-8a9a6a5da822",
   "metadata": {},
   "source": [
    "Feature engineering\n",
    "\n",
    "Feature engineering is the process of using your own knowledge about the data \n",
    "and about the machine-learning algorithm at hand \n",
    "(in this case, a neural network) \n",
    "to make the algorithm work better by applying hardcoded (nonlearned) transformations \n",
    "to the data before it goes into the model."
   ]
  },
  {
   "cell_type": "markdown",
   "id": "39951099-04c3-42e6-b719-5e402eb82413",
   "metadata": {},
   "source": [
    "Overfitting and underfitting"
   ]
  },
  {
   "cell_type": "markdown",
   "id": "3ef1cc0f-9254-45d4-9301-15d33361a0dd",
   "metadata": {},
   "source": [
    "Reducing the network’s size"
   ]
  },
  {
   "cell_type": "markdown",
   "id": "e51482e6-72f9-4706-9c31-6361f6f5d914",
   "metadata": {},
   "source": [
    "Adding weight regularization\n",
    "\n",
    "weight regularization\n",
    "L1 regularization\n",
    "L2 regularization"
   ]
  },
  {
   "cell_type": "markdown",
   "id": "f2ef8b96-3726-4a0b-851d-ced365d5ac2a",
   "metadata": {},
   "source": [
    "Adding dropout\n",
    "\n",
    "Dropout, applied to a layer, consists of randomly dropping out (setting to zero) a number of output features \n",
    "of the layer during training."
   ]
  },
  {
   "cell_type": "markdown",
   "id": "e31f51e3-7562-4fe4-bf6c-544f875d701f",
   "metadata": {},
   "source": [
    "The universal workflow of machine learning\n",
    "\n",
    "Defining the problem and assembling a dataset\n",
    "Choosing a measure of success\n",
    "Preparing your data\n",
    "Developing a model that does better than a baseline\n",
    "Scaling up: developing a model that overfits\n",
    "Regularizing your model and tuning your hyperparameters"
   ]
  }
 ],
 "metadata": {
  "kernelspec": {
   "display_name": "Python 3 (ipykernel)",
   "language": "python",
   "name": "python3"
  },
  "language_info": {
   "codemirror_mode": {
    "name": "ipython",
    "version": 3
   },
   "file_extension": ".py",
   "mimetype": "text/x-python",
   "name": "python",
   "nbconvert_exporter": "python",
   "pygments_lexer": "ipython3",
   "version": "3.10.5"
  }
 },
 "nbformat": 4,
 "nbformat_minor": 5
}
