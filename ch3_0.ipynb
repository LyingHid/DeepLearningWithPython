{
 "cells": [
  {
   "cell_type": "markdown",
   "id": "63ef2b57-dbba-458a-b7ea-13c857d8054f",
   "metadata": {},
   "source": [
    "Chapter 3. Getting started with neural networks"
   ]
  },
  {
   "cell_type": "markdown",
   "id": "ff20ee72-9686-4c09-ab20-ebbcf916e0b5",
   "metadata": {},
   "source": [
    "Fortunately, when it comes to common problems such as classification, regression, and sequence prediction, \n",
    "there are simple guidelines you can follow to choose the correct loss. \n",
    "For instance, you’ll use binary crossentropy for a two-class classification problem, \n",
    "categorical crossentropy for a many-class classification problem, \n",
    "mean-squared error for a regression problem, \n",
    "connectionist temporal classification (CTC) for a sequence-learning problem, \n",
    "and so on."
   ]
  }
 ],
 "metadata": {
  "kernelspec": {
   "display_name": "Python 3 (ipykernel)",
   "language": "python",
   "name": "python3"
  },
  "language_info": {
   "codemirror_mode": {
    "name": "ipython",
    "version": 3
   },
   "file_extension": ".py",
   "mimetype": "text/x-python",
   "name": "python",
   "nbconvert_exporter": "python",
   "pygments_lexer": "ipython3",
   "version": "3.10.5"
  }
 },
 "nbformat": 4,
 "nbformat_minor": 5
}
