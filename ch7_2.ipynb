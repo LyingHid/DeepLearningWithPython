{
 "cells": [
  {
   "cell_type": "code",
   "execution_count": null,
   "id": "c221157f-e600-4e2a-894e-e9af201daa56",
   "metadata": {},
   "outputs": [],
   "source": [
    "# Inspecting and monitoring deep-learning models using Keras callbacks and TensorBoard"
   ]
  },
  {
   "cell_type": "code",
   "execution_count": null,
   "id": "ec4254c0-9c9c-419a-8600-9128ceeb0631",
   "metadata": {},
   "outputs": [],
   "source": [
    "# Using callbacks to act on a model during training"
   ]
  }
 ],
 "metadata": {
  "kernelspec": {
   "display_name": "Python 3 (ipykernel)",
   "language": "python",
   "name": "python3"
  },
  "language_info": {
   "codemirror_mode": {
    "name": "ipython",
    "version": 3
   },
   "file_extension": ".py",
   "mimetype": "text/x-python",
   "name": "python",
   "nbconvert_exporter": "python",
   "pygments_lexer": "ipython3",
   "version": "3.10.5"
  }
 },
 "nbformat": 4,
 "nbformat_minor": 5
}
