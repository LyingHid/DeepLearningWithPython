{
 "cells": [
  {
   "cell_type": "markdown",
   "id": "80c3959f-757f-4e5f-8778-b00eed301dd3",
   "metadata": {},
   "source": [
    "# Introduction to generative adversarial networks"
   ]
  },
  {
   "cell_type": "markdown",
   "id": "edb5e415-c190-4ef1-8c50-5e4ae107a5f0",
   "metadata": {},
   "source": [
    "An intuitive way to understand GAN s is to imagine a forger trying to create a fake\n",
    "Picasso painting. At first, the forger is pretty bad at the task. He mixes some of his\n",
    "fakes with authentic Picassos and shows them all to an art dealer. The art dealer makes\n",
    "an authenticity assessment for each painting and gives the forger feedback about what\n",
    "makes a Picasso look like a Picasso. The forger goes back to his studio to prepare some\n",
    "new fakes. As times goes on, the forger becomes increasingly competent at imitating\n",
    "the style of Picasso, and the art dealer becomes increasingly expert at spotting fakes.\n",
    "In the end, they have on their hands some excellent fake Picassos."
   ]
  },
  {
   "cell_type": "markdown",
   "id": "fc4aab3a-8bf0-439d-893f-b2f2d231430f",
   "metadata": {},
   "source": [
    "That’s what a GAN is: a forger network and an expert network, each being trained\n",
    "to best the other. As such, a GAN is made of two parts:\n",
    "- Generator network—Takes as input a random vector (a random point in the\n",
    "latent space), and decodes it into a synthetic image\n",
    "- Discriminator network (or adversary)—Takes as input an image (real or synthetic),\n",
    "and predicts whether the image came from the training set or was created by\n",
    "the generator network."
   ]
  },
  {
   "cell_type": "markdown",
   "id": "53d9517a-c784-4579-859f-896dc6aa847e",
   "metadata": {},
   "source": [
    "## How to train your DCGAN"
   ]
  },
  {
   "cell_type": "markdown",
   "id": "f0444e7f-4b99-4a08-b6d1-5a58966f4e70",
   "metadata": {},
   "source": [
    "For each epoch, you do the following:\n",
    "1. Draw random points in the latent space (random noise).\n",
    "2. Generate images with generator using this random noise.\n",
    "3. Mix the generated images with real ones.\n",
    "4. Train discriminator using these mixed images, with corresponding targets:\n",
    "either “real” (for the real images) or “fake” (for the generated images).\n",
    "5. Draw new random points in the latent space.\n",
    "6. Train gan using these random vectors, with targets that all say “these are real\n",
    "images.” This updates the weights of the generator (only, because the discrimi-\n",
    "nator is frozen inside gan) to move them toward getting the discriminator to\n",
    "predict “these are real images” for generated images: this trains the generator\n",
    "to fool the discriminator."
   ]
  }
 ],
 "metadata": {
  "kernelspec": {
   "display_name": "Python 3 (ipykernel)",
   "language": "python",
   "name": "python3"
  },
  "language_info": {
   "codemirror_mode": {
    "name": "ipython",
    "version": 3
   },
   "file_extension": ".py",
   "mimetype": "text/x-python",
   "name": "python",
   "nbconvert_exporter": "python",
   "pygments_lexer": "ipython3",
   "version": "3.10.6"
  }
 },
 "nbformat": 4,
 "nbformat_minor": 5
}
