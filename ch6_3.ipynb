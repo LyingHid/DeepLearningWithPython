{
 "cells": [
  {
   "cell_type": "code",
   "execution_count": 1,
   "id": "e6648341-8380-45cc-8e68-b2434ba26173",
   "metadata": {},
   "outputs": [],
   "source": [
    "# Advanced use of recurrent neural networks"
   ]
  },
  {
   "cell_type": "code",
   "execution_count": 2,
   "id": "619f5943-fdb3-4121-ae7f-0df150af8609",
   "metadata": {},
   "outputs": [],
   "source": [
    "# Recurrent dropout — This is a specific, built-in way to use dropout to fight overfitting in recurrent layers.\n",
    "# Stacking recurrent layers—This increases the representational power of the network (at the cost of higher computational loads).\n",
    "# Bidirectional recurrent layers—These present the same information to a recurrent network in different ways, increasing accuracy and mitigating forgetting issues."
   ]
  },
  {
   "cell_type": "code",
   "execution_count": 3,
   "id": "c5af3bc1-80b1-47a1-9aa2-a36849883561",
   "metadata": {},
   "outputs": [
    {
     "name": "stdout",
     "output_type": "stream",
     "text": [
      "['\"Date Time\"', '\"p (mbar)\"', '\"T (degC)\"', '\"Tpot (K)\"', '\"Tdew (degC)\"', '\"rh (%)\"', '\"VPmax (mbar)\"', '\"VPact (mbar)\"', '\"VPdef (mbar)\"', '\"sh (g/kg)\"', '\"H2OC (mmol/mol)\"', '\"rho (g/m**3)\"', '\"wv (m/s)\"', '\"max. wv (m/s)\"', '\"wd (deg)\"']\n",
      "420451\n"
     ]
    }
   ],
   "source": [
    "import os\n",
    "\n",
    "\n",
    "data_dir = 'climate'\n",
    "fname = os.path.join(data_dir, 'jena_climate_2009_2016.csv')\n",
    "f = open(fname)\n",
    "data = f.read()\n",
    "f.close()\n",
    "lines = data.split('\\n')\n",
    "header = lines[0].split(',')\n",
    "lines = lines[1:]\n",
    "print(header)\n",
    "print(len(lines))"
   ]
  },
  {
   "cell_type": "code",
   "execution_count": 4,
   "id": "045a86dc-120a-448b-b4a2-1e4c3bcda887",
   "metadata": {},
   "outputs": [],
   "source": [
    "import numpy as np\n",
    "\n",
    "\n",
    "float_data = np.zeros((len(lines), len(header) - 1))\n",
    "for i, line in enumerate(lines):\n",
    "    values = [float(x) for x in line.split(',')[1:]]\n",
    "    float_data[i, :] = values"
   ]
  },
  {
   "cell_type": "code",
   "execution_count": 5,
   "id": "75cd5d88-7bb1-4839-b408-f68aa19b0cd7",
   "metadata": {},
   "outputs": [
    {
     "data": {
      "text/plain": [
       "[<matplotlib.lines.Line2D at 0x7ff1429a5c00>]"
      ]
     },
     "execution_count": 5,
     "metadata": {},
     "output_type": "execute_result"
    },
    {
     "data": {
      "image/png": "[encoded data removed]",
      "text/plain": [
       "<Figure size 432x288 with 1 Axes>"
      ]
     },
     "metadata": {
      "needs_background": "light"
     },
     "output_type": "display_data"
    }
   ],
   "source": [
    "import matplotlib.pyplot as plt\n",
    "\n",
    "\n",
    "temp = float_data[:, 1]\n",
    "plt.plot(range(len(temp)), temp)"
   ]
  },
  {
   "cell_type": "code",
   "execution_count": 6,
   "id": "eddf037f-2c1f-471e-8dad-d87476fbe060",
   "metadata": {},
   "outputs": [
    {
     "name": "stdout",
     "output_type": "stream",
     "text": [
      "(420451, 14)\n"
     ]
    }
   ],
   "source": [
    "mean = float_data[:200000].mean(axis=0)\n",
    "float_data -= mean\n",
    "std = float_data[:200000].std(axis=0)\n",
    "float_data /= std\n",
    "\n",
    "print(float_data.shape)  # shape(420451, 14)"
   ]
  },
  {
   "cell_type": "code",
   "execution_count": 7,
   "id": "d575dcb9-f6b4-4d86-a469-4d3a609ec27a",
   "metadata": {
    "tags": []
   },
   "outputs": [],
   "source": [
    "def generator(data, lookback, delay, min_index, max_index,\n",
    "              shuffle=False, batch_size=128, step=6):\n",
    "    if max_index is None:\n",
    "        max_index = len(data) - delay - 1\n",
    "    i = min_index + lookback\n",
    "    while 1:\n",
    "        if shuffle:\n",
    "            rows = np.random.randint(\n",
    "                min_index + lookback, max_index, size=batch_size)\n",
    "        else:\n",
    "            if i + batch_size >= max_index:\n",
    "                i = min_index + lookback\n",
    "            rows = np.arange(i, min(i + batch_size, max_index))\n",
    "            i += len(rows)\n",
    "        samples = np.zeros((len(rows),\n",
    "                            lookback // step,\n",
    "                            data.shape[-1]))\n",
    "        targets = np.zeros((len(rows),))\n",
    "        for j, row in enumerate(rows):\n",
    "            indices = range(rows[j] - lookback, rows[j], step)\n",
    "            samples[j] = data[indices]\n",
    "            targets[j] = data[rows[j] + delay][1]\n",
    "        yield samples, targets"
   ]
  },
  {
   "cell_type": "code",
   "execution_count": 8,
   "id": "1dd84e55-fa8b-4cee-bb23-0e4f7d904296",
   "metadata": {},
   "outputs": [],
   "source": [
    "lookback = 1440\n",
    "step = 6\n",
    "delay = 144\n",
    "batch_size = 128\n",
    "\n",
    "train_gen = generator(float_data,\n",
    "                      lookback=lookback,\n",
    "                      delay=delay,\n",
    "                      min_index=0,\n",
    "                      max_index=200000,\n",
    "                      shuffle=True,\n",
    "                      step=step,\n",
    "                      batch_size=batch_size)\n",
    "val_gen = generator(float_data,\n",
    "                    lookback=lookback,\n",
    "                    delay=delay,\n",
    "                    min_index=200001,\n",
    "                    max_index=300000,\n",
    "                    step=step,\n",
    "                    batch_size=batch_size)\n",
    "test_gen = generator(float_data,\n",
    "                     lookback=lookback,\n",
    "                     delay=delay,\n",
    "                     min_index=300001,\n",
    "                     max_index=None,\n",
    "                     step=step,\n",
    "                     batch_size=batch_size)\n",
    "val_steps = min(500, (300000 - 200001 - lookback))\n",
    "test_steps = (len(float_data) - 300001 - lookback)"
   ]
  },
  {
   "cell_type": "code",
   "execution_count": 9,
   "id": "f7ec21ee-c5e3-4bf7-95e8-1d3786d667e6",
   "metadata": {},
   "outputs": [
    {
     "name": "stdout",
     "output_type": "stream",
     "text": [
      "0.2857543010182409\n"
     ]
    }
   ],
   "source": [
    "# A common-sense, non-machine-learning baseline\n",
    "\n",
    "def evaluate_naive_method():\n",
    "    batch_maes = []\n",
    "    for step in range(val_steps):\n",
    "        samples, targets = next(val_gen)\n",
    "        preds = samples[:, -1, 1]\n",
    "        mae = np.mean(np.abs(preds - targets))\n",
    "        batch_maes.append(mae)\n",
    "    print(np.mean(batch_maes))\n",
    "\n",
    "\n",
    "evaluate_naive_method()"
   ]
  },
  {
   "cell_type": "code",
   "execution_count": 10,
   "id": "ef33e22c-2161-4fdc-b3a3-a0e9c24658d8",
   "metadata": {},
   "outputs": [],
   "source": [
    "# A basic machine-learning approach"
   ]
  },
  {
   "cell_type": "code",
   "execution_count": 11,
   "id": "cd2cc14e-ddc8-4060-a052-23ec3ecacfa6",
   "metadata": {},
   "outputs": [
    {
     "name": "stderr",
     "output_type": "stream",
     "text": [
      "2022-08-17 12:15:42.367254: I tensorflow/core/platform/cpu_feature_guard.cc:193] This TensorFlow binary is optimized with oneAPI Deep Neural Network Library (oneDNN) to use the following CPU instructions in performance-critical operations:  SSE3 SSE4.1 SSE4.2 AVX AVX2 AVX512F AVX512_VNNI FMA\n",
      "To enable them in other operations, rebuild TensorFlow with the appropriate compiler flags.\n",
      "2022-08-17 12:15:42.371188: I tensorflow/core/common_runtime/process_util.cc:146] Creating new thread pool with default inter op setting: 2. Tune using inter_op_parallelism_threads for best performance.\n",
      "/tmp/ipykernel_246330/892506889.py:11: UserWarning: `Model.fit_generator` is deprecated and will be removed in a future version. Please use `Model.fit`, which supports generators.\n",
      "  history = model.fit_generator(train_gen,\n"
     ]
    },
    {
     "name": "stdout",
     "output_type": "stream",
     "text": [
      "Epoch 1/20\n",
      "500/500 [==============================] - 26s 52ms/step - loss: 1.4181 - val_loss: 0.6520\n",
      "Epoch 2/20\n",
      "500/500 [==============================] - 25s 51ms/step - loss: 0.4758 - val_loss: 0.3194\n",
      "Epoch 3/20\n",
      "500/500 [==============================] - 29s 58ms/step - loss: 0.2938 - val_loss: 0.3306\n",
      "Epoch 4/20\n",
      "500/500 [==============================] - 31s 62ms/step - loss: 0.2696 - val_loss: 0.2959\n",
      "Epoch 5/20\n",
      "500/500 [==============================] - 31s 62ms/step - loss: 0.2534 - val_loss: 0.3198\n",
      "Epoch 6/20\n",
      "500/500 [==============================] - 28s 56ms/step - loss: 0.2464 - val_loss: 0.3297\n",
      "Epoch 7/20\n",
      "500/500 [==============================] - 32s 64ms/step - loss: 0.2393 - val_loss: 0.3171\n",
      "Epoch 8/20\n",
      "500/500 [==============================] - 30s 60ms/step - loss: 0.2337 - val_loss: 0.3198\n",
      "Epoch 9/20\n",
      "500/500 [==============================] - 31s 61ms/step - loss: 0.2299 - val_loss: 0.3167\n",
      "Epoch 10/20\n",
      "500/500 [==============================] - 32s 64ms/step - loss: 0.2254 - val_loss: 0.3281\n",
      "Epoch 11/20\n",
      "500/500 [==============================] - 30s 60ms/step - loss: 0.2217 - val_loss: 0.3472\n",
      "Epoch 12/20\n",
      "500/500 [==============================] - 25s 50ms/step - loss: 0.2197 - val_loss: 0.3513\n",
      "Epoch 13/20\n",
      "500/500 [==============================] - 28s 57ms/step - loss: 0.2176 - val_loss: 0.3260\n",
      "Epoch 14/20\n",
      "500/500 [==============================] - 33s 65ms/step - loss: 0.2141 - val_loss: 0.3235\n",
      "Epoch 15/20\n",
      "500/500 [==============================] - 32s 64ms/step - loss: 0.2108 - val_loss: 0.3492\n",
      "Epoch 16/20\n",
      "500/500 [==============================] - 27s 54ms/step - loss: 0.2099 - val_loss: 0.3444\n",
      "Epoch 17/20\n",
      "500/500 [==============================] - 27s 54ms/step - loss: 0.2070 - val_loss: 0.3267\n",
      "Epoch 18/20\n",
      "500/500 [==============================] - 30s 60ms/step - loss: 0.2045 - val_loss: 0.3213\n",
      "Epoch 19/20\n",
      "500/500 [==============================] - 31s 62ms/step - loss: 0.2040 - val_loss: 0.3277\n",
      "Epoch 20/20\n",
      "500/500 [==============================] - 30s 60ms/step - loss: 0.2006 - val_loss: 0.3348\n"
     ]
    }
   ],
   "source": [
    "from keras.models import Sequential\n",
    "from keras import layers\n",
    "from keras.optimizers import RMSprop\n",
    "\n",
    "\n",
    "model = Sequential()\n",
    "model.add(layers.Flatten(input_shape=(lookback // step, float_data.shape[-1])))\n",
    "model.add(layers.Dense(32, activation='relu'))\n",
    "model.add(layers.Dense(1))\n",
    "model.compile(optimizer=RMSprop(), loss='mae')\n",
    "history = model.fit_generator(train_gen,\n",
    "                              steps_per_epoch=500,\n",
    "                              epochs=20,\n",
    "                              validation_data=val_gen,\n",
    "                              validation_steps=val_steps)"
   ]
  },
  {
   "cell_type": "code",
   "execution_count": 12,
   "id": "e5f2cb3e-a08a-4dbd-89f2-f8eed836e684",
   "metadata": {},
   "outputs": [
    {
     "data": {
      "image/png": "[encoded data removed]",
      "text/plain": [
       "<Figure size 432x288 with 1 Axes>"
      ]
     },
     "metadata": {
      "needs_background": "light"
     },
     "output_type": "display_data"
    }
   ],
   "source": [
    "import matplotlib.pyplot as plt\n",
    "\n",
    "\n",
    "loss = history.history['loss']\n",
    "val_loss = history.history['val_loss']\n",
    "epochs = range(1, len(loss) + 1)\n",
    "plt.figure()\n",
    "plt.plot(epochs, loss, 'bo', label='Training loss')\n",
    "plt.plot(epochs, val_loss, 'b', label='Validation loss')\n",
    "plt.title('Training and validation loss')\n",
    "plt.legend()\n",
    "plt.show()"
   ]
  },
  {
   "cell_type": "code",
   "execution_count": 13,
   "id": "c53d1d0c-ffb3-4c1c-a943-7cd13bcbc37a",
   "metadata": {},
   "outputs": [],
   "source": [
    "# A first recurrent baseline"
   ]
  },
  {
   "cell_type": "code",
   "execution_count": 14,
   "id": "552357fd-ed52-4107-a1e9-663f32f98961",
   "metadata": {},
   "outputs": [
    {
     "name": "stdout",
     "output_type": "stream",
     "text": [
      "Epoch 1/20\n"
     ]
    },
    {
     "name": "stderr",
     "output_type": "stream",
     "text": [
      "/tmp/ipykernel_246330/3266505108.py:10: UserWarning: `Model.fit_generator` is deprecated and will be removed in a future version. Please use `Model.fit`, which supports generators.\n",
      "  history = model.fit_generator(train_gen,\n"
     ]
    },
    {
     "name": "stdout",
     "output_type": "stream",
     "text": [
      "500/500 [==============================] - 175s 347ms/step - loss: 0.3021 - val_loss: 0.2696\n",
      "Epoch 2/20\n",
      "500/500 [==============================] - 178s 357ms/step - loss: 0.2824 - val_loss: 0.2761\n",
      "Epoch 3/20\n",
      "500/500 [==============================] - 181s 362ms/step - loss: 0.2784 - val_loss: 0.2614\n",
      "Epoch 4/20\n",
      "500/500 [==============================] - 175s 349ms/step - loss: 0.2740 - val_loss: 0.2618\n",
      "Epoch 5/20\n",
      "500/500 [==============================] - 176s 353ms/step - loss: 0.2688 - val_loss: 0.2703\n",
      "Epoch 6/20\n",
      "500/500 [==============================] - 169s 339ms/step - loss: 0.2653 - val_loss: 0.2541\n",
      "Epoch 7/20\n",
      "500/500 [==============================] - 184s 369ms/step - loss: 0.2590 - val_loss: 0.2592\n",
      "Epoch 8/20\n",
      "500/500 [==============================] - 183s 365ms/step - loss: 0.2546 - val_loss: 0.2789\n",
      "Epoch 9/20\n",
      "500/500 [==============================] - 176s 353ms/step - loss: 0.2496 - val_loss: 0.2588\n",
      "Epoch 10/20\n",
      "500/500 [==============================] - 171s 342ms/step - loss: 0.2464 - val_loss: 0.2725\n",
      "Epoch 11/20\n",
      "500/500 [==============================] - 172s 344ms/step - loss: 0.2394 - val_loss: 0.2883\n",
      "Epoch 12/20\n",
      "500/500 [==============================] - 180s 359ms/step - loss: 0.2355 - val_loss: 0.2673\n",
      "Epoch 13/20\n",
      "500/500 [==============================] - 176s 352ms/step - loss: 0.2312 - val_loss: 0.2884\n",
      "Epoch 14/20\n",
      "500/500 [==============================] - 187s 374ms/step - loss: 0.2278 - val_loss: 0.2941\n",
      "Epoch 15/20\n",
      "500/500 [==============================] - 204s 408ms/step - loss: 0.2213 - val_loss: 0.2861\n",
      "Epoch 16/20\n",
      "500/500 [==============================] - 173s 346ms/step - loss: 0.2189 - val_loss: 0.3035\n",
      "Epoch 17/20\n",
      "500/500 [==============================] - 171s 342ms/step - loss: 0.2149 - val_loss: 0.3017\n",
      "Epoch 18/20\n",
      "500/500 [==============================] - 185s 370ms/step - loss: 0.2113 - val_loss: 0.2941\n",
      "Epoch 19/20\n",
      "500/500 [==============================] - 182s 365ms/step - loss: 0.2075 - val_loss: 0.3122\n",
      "Epoch 20/20\n",
      "500/500 [==============================] - 195s 390ms/step - loss: 0.2050 - val_loss: 0.3053\n"
     ]
    }
   ],
   "source": [
    "from keras.models import Sequential\n",
    "from keras import layers\n",
    "from keras.optimizers import RMSprop\n",
    "\n",
    "\n",
    "model = Sequential()\n",
    "model.add(layers.GRU(32, input_shape=(None, float_data.shape[-1])))\n",
    "model.add(layers.Dense(1))\n",
    "model.compile(optimizer=RMSprop(), loss='mae')\n",
    "history = model.fit_generator(train_gen,\n",
    "                              steps_per_epoch=500,\n",
    "                              epochs=20,\n",
    "                              validation_data=val_gen,\n",
    "                              validation_steps=val_steps)"
   ]
  },
  {
   "cell_type": "code",
   "execution_count": 15,
   "id": "e40d5143-0a5e-424a-8205-d101cfc8f039",
   "metadata": {},
   "outputs": [
    {
     "data": {
      "image/png": "[encoded data removed]",
      "text/plain": [
       "<Figure size 432x288 with 1 Axes>"
      ]
     },
     "metadata": {
      "needs_background": "light"
     },
     "output_type": "display_data"
    }
   ],
   "source": [
    "loss = history.history['loss']\n",
    "val_loss = history.history['val_loss']\n",
    "epochs = range(1, len(loss) + 1)\n",
    "plt.figure()\n",
    "plt.plot(epochs, loss, 'bo', label='Training loss')\n",
    "plt.plot(epochs, val_loss, 'b', label='Validation loss')\n",
    "plt.title('Training and validation loss')\n",
    "plt.legend()\n",
    "plt.show()"
   ]
  },
  {
   "cell_type": "code",
   "execution_count": 16,
   "id": "7e76eb99-4288-4621-b2a6-83b949e70dce",
   "metadata": {},
   "outputs": [],
   "source": [
    "# Using recurrent dropout to fight overfitting"
   ]
  },
  {
   "cell_type": "code",
   "execution_count": 21,
   "id": "051e047f-4b82-4ed4-aaed-022ace39ce58",
   "metadata": {},
   "outputs": [
    {
     "name": "stdout",
     "output_type": "stream",
     "text": [
      "Epoch 1/40\n"
     ]
    },
    {
     "name": "stderr",
     "output_type": "stream",
     "text": [
      "/tmp/ipykernel_246330/3699084108.py:13: UserWarning: `Model.fit_generator` is deprecated and will be removed in a future version. Please use `Model.fit`, which supports generators.\n",
      "  history = model.fit_generator(train_gen,\n"
     ]
    },
    {
     "name": "stdout",
     "output_type": "stream",
     "text": [
      "500/500 [==============================] - 297s 590ms/step - loss: 0.3220 - val_loss: 0.2752\n",
      "Epoch 2/40\n",
      "500/500 [==============================] - 287s 575ms/step - loss: 0.3094 - val_loss: 0.2852\n",
      "Epoch 3/40\n",
      "500/500 [==============================] - 285s 570ms/step - loss: 0.2988 - val_loss: 0.2768\n",
      "Epoch 4/40\n",
      "500/500 [==============================] - 287s 574ms/step - loss: 0.2934 - val_loss: 0.2683\n",
      "Epoch 5/40\n",
      "500/500 [==============================] - 289s 578ms/step - loss: 0.2884 - val_loss: 0.2732\n",
      "Epoch 6/40\n",
      "500/500 [==============================] - 300s 601ms/step - loss: 0.2873 - val_loss: 0.2676\n",
      "Epoch 7/40\n",
      "500/500 [==============================] - 291s 583ms/step - loss: 0.2813 - val_loss: 0.2676\n",
      "Epoch 8/40\n",
      "500/500 [==============================] - 289s 579ms/step - loss: 0.2777 - val_loss: 0.2789\n",
      "Epoch 9/40\n",
      "500/500 [==============================] - 295s 589ms/step - loss: 0.2737 - val_loss: 0.2734\n",
      "Epoch 10/40\n",
      "500/500 [==============================] - 316s 633ms/step - loss: 0.2697 - val_loss: 0.2648\n",
      "Epoch 11/40\n",
      "500/500 [==============================] - 479s 958ms/step - loss: 0.2680 - val_loss: 0.2773\n",
      "Epoch 12/40\n",
      "500/500 [==============================] - 391s 782ms/step - loss: 0.2650 - val_loss: 0.2729\n",
      "Epoch 13/40\n",
      "500/500 [==============================] - 677s 1s/step - loss: 0.2640 - val_loss: 0.2713\n",
      "Epoch 14/40\n",
      " 96/500 [====>.........................] - ETA: 3:46 - loss: 0.2607"
     ]
    },
    {
     "name": "stderr",
     "output_type": "stream",
     "text": [
      "IOPub message rate exceeded.\n",
      "The Jupyter server will temporarily stop sending output\n",
      "to the client in order to avoid crashing it.\n",
      "To change this limit, set the config variable\n",
      "`--ServerApp.iopub_msg_rate_limit`.\n",
      "\n",
      "Current values:\n",
      "ServerApp.iopub_msg_rate_limit=1000.0 (msgs/sec)\n",
      "ServerApp.rate_limit_window=3.0 (secs)\n",
      "\n"
     ]
    },
    {
     "name": "stdout",
     "output_type": "stream",
     "text": [
      "500/500 [==============================] - 383s 767ms/step - loss: 0.2619 - val_loss: 0.2834\n",
      "Epoch 15/40\n",
      "500/500 [==============================] - 301s 603ms/step - loss: 0.2595 - val_loss: 0.2670\n",
      "Epoch 16/40\n",
      "500/500 [==============================] - 295s 591ms/step - loss: 0.2594 - val_loss: 0.2758\n",
      "Epoch 17/40\n",
      "500/500 [==============================] - 297s 594ms/step - loss: 0.2584 - val_loss: 0.2978\n",
      "Epoch 18/40\n",
      "500/500 [==============================] - 298s 595ms/step - loss: 0.2535 - val_loss: 0.2718\n",
      "Epoch 19/40\n",
      "500/500 [==============================] - 286s 573ms/step - loss: 0.2536 - val_loss: 0.2950\n",
      "Epoch 20/40\n",
      "500/500 [==============================] - 289s 579ms/step - loss: 0.2516 - val_loss: 0.2917\n",
      "Epoch 21/40\n",
      "500/500 [==============================] - 297s 594ms/step - loss: 0.2502 - val_loss: 0.2658\n",
      "Epoch 22/40\n",
      "500/500 [==============================] - 297s 593ms/step - loss: 0.2480 - val_loss: 0.2986\n",
      "Epoch 23/40\n",
      "500/500 [==============================] - 295s 589ms/step - loss: 0.2479 - val_loss: 0.2997\n",
      "Epoch 24/40\n",
      "500/500 [==============================] - 294s 589ms/step - loss: 0.2443 - val_loss: 0.2740\n",
      "Epoch 25/40\n",
      "500/500 [==============================] - 291s 581ms/step - loss: 0.2438 - val_loss: 0.2984\n",
      "Epoch 26/40\n",
      "500/500 [==============================] - 291s 581ms/step - loss: 0.2424 - val_loss: 0.2968\n",
      "Epoch 27/40\n",
      "500/500 [==============================] - 295s 591ms/step - loss: 0.2416 - val_loss: 0.2879\n",
      "Epoch 28/40\n",
      "500/500 [==============================] - 302s 605ms/step - loss: 0.2407 - val_loss: 0.3007\n",
      "Epoch 29/40\n",
      "500/500 [==============================] - 290s 580ms/step - loss: 0.2381 - val_loss: 0.3031\n",
      "Epoch 30/40\n",
      "500/500 [==============================] - 267s 534ms/step - loss: 0.2362 - val_loss: 0.2963\n",
      "Epoch 31/40\n",
      "500/500 [==============================] - 327s 655ms/step - loss: 0.2353 - val_loss: 0.2948\n",
      "Epoch 32/40\n",
      "500/500 [==============================] - 325s 650ms/step - loss: 0.2331 - val_loss: 0.3046\n",
      "Epoch 33/40\n",
      "500/500 [==============================] - 342s 685ms/step - loss: 0.2337 - val_loss: 0.2919\n",
      "Epoch 34/40\n",
      "500/500 [==============================] - 289s 578ms/step - loss: 0.2323 - val_loss: 0.3108\n",
      "Epoch 35/40\n",
      "500/500 [==============================] - 287s 574ms/step - loss: 0.2316 - val_loss: 0.3011\n",
      "Epoch 36/40\n",
      "500/500 [==============================] - 292s 584ms/step - loss: 0.2306 - val_loss: 0.2994\n",
      "Epoch 37/40\n",
      "500/500 [==============================] - 297s 594ms/step - loss: 0.2292 - val_loss: 0.3103\n",
      "Epoch 38/40\n",
      "500/500 [==============================] - 302s 604ms/step - loss: 0.2271 - val_loss: 0.2953\n",
      "Epoch 39/40\n",
      "500/500 [==============================] - 285s 571ms/step - loss: 0.2265 - val_loss: 0.3072\n",
      "Epoch 40/40\n",
      "500/500 [==============================] - 287s 575ms/step - loss: 0.2258 - val_loss: 0.3187\n"
     ]
    }
   ],
   "source": [
    "from keras.models import Sequential\n",
    "from keras import layers\n",
    "from keras.optimizers import RMSprop\n",
    "\n",
    "\n",
    "model = Sequential()\n",
    "model.add(layers.GRU(32,\n",
    "                     dropout=0.2,\n",
    "                     recurrent_dropout=0.2,\n",
    "                     input_shape=(None, float_data.shape[-1])))\n",
    "model.add(layers.Dense(1))\n",
    "model.compile(optimizer=RMSprop(), loss='mae')\n",
    "history = model.fit_generator(train_gen,\n",
    "                              steps_per_epoch=500,\n",
    "                              epochs=40,\n",
    "                              validation_data=val_gen,\n",
    "                              validation_steps=val_steps)"
   ]
  },
  {
   "cell_type": "code",
   "execution_count": 22,
   "id": "fdde08d7-8c22-4feb-9e8c-6b30d2701cf6",
   "metadata": {},
   "outputs": [
    {
     "data": {
      "image/png": "[encoded data removed]",
      "text/plain": [
       "<Figure size 432x288 with 1 Axes>"
      ]
     },
     "metadata": {
      "needs_background": "light"
     },
     "output_type": "display_data"
    }
   ],
   "source": [
    "loss = history.history['loss']\n",
    "val_loss = history.history['val_loss']\n",
    "epochs = range(1, len(loss) + 1)\n",
    "plt.figure()\n",
    "plt.plot(epochs, loss, 'bo', label='Training loss')\n",
    "plt.plot(epochs, val_loss, 'b', label='Validation loss')\n",
    "plt.title('Training and validation loss')\n",
    "plt.legend()\n",
    "plt.show()"
   ]
  },
  {
   "cell_type": "code",
   "execution_count": null,
   "id": "2a256b3f-b7cf-44b7-9744-295945bb8b8a",
   "metadata": {},
   "outputs": [],
   "source": [
    "# Stacking recurrent layers"
   ]
  },
  {
   "cell_type": "code",
   "execution_count": 23,
   "id": "5b1422fe-fe74-414f-815e-eb3b1aca676b",
   "metadata": {},
   "outputs": [
    {
     "name": "stdout",
     "output_type": "stream",
     "text": [
      "Epoch 1/40\n"
     ]
    },
    {
     "name": "stderr",
     "output_type": "stream",
     "text": [
      "/tmp/ipykernel_246330/877987082.py:17: UserWarning: `Model.fit_generator` is deprecated and will be removed in a future version. Please use `Model.fit`, which supports generators.\n",
      "  history = model.fit_generator(train_gen,\n"
     ]
    },
    {
     "name": "stdout",
     "output_type": "stream",
     "text": [
      "500/500 [==============================] - 806s 2s/step - loss: 0.3220 - val_loss: 0.2743\n",
      "Epoch 2/40\n",
      "500/500 [==============================] - 802s 2s/step - loss: 0.3013 - val_loss: 0.2743\n",
      "Epoch 3/40\n",
      "500/500 [==============================] - 863s 2s/step - loss: 0.2951 - val_loss: 0.2849\n",
      "Epoch 4/40\n",
      "500/500 [==============================] - 855s 2s/step - loss: 0.2883 - val_loss: 0.2682\n",
      "Epoch 5/40\n",
      "500/500 [==============================] - 864s 2s/step - loss: 0.2801 - val_loss: 0.2701\n",
      "Epoch 6/40\n",
      "500/500 [==============================] - 821s 2s/step - loss: 0.2754 - val_loss: 0.2787\n",
      "Epoch 7/40\n",
      "500/500 [==============================] - 813s 2s/step - loss: 0.2706 - val_loss: 0.2668\n",
      "Epoch 8/40\n",
      "500/500 [==============================] - 813s 2s/step - loss: 0.2654 - val_loss: 0.2787\n",
      "Epoch 9/40\n",
      "500/500 [==============================] - 814s 2s/step - loss: 0.2611 - val_loss: 0.2936\n",
      "Epoch 10/40\n",
      "500/500 [==============================] - 805s 2s/step - loss: 0.2523 - val_loss: 0.2869\n",
      "Epoch 12/40\n",
      "500/500 [==============================] - 810s 2s/step - loss: 0.2493 - val_loss: 0.2956\n",
      "Epoch 13/40\n",
      "500/500 [==============================] - 799s 2s/step - loss: 0.2457 - val_loss: 0.2903\n",
      "Epoch 14/40\n",
      "500/500 [==============================] - 805s 2s/step - loss: 0.2419 - val_loss: 0.2862\n",
      "Epoch 15/40\n",
      "500/500 [==============================] - 804s 2s/step - loss: 0.2382 - val_loss: 0.2938\n",
      "Epoch 16/40\n",
      "500/500 [==============================] - 824s 2s/step - loss: 0.2358 - val_loss: 0.2999\n",
      "Epoch 17/40\n",
      "500/500 [==============================] - 840s 2s/step - loss: 0.2353 - val_loss: 0.3052\n",
      "Epoch 18/40\n",
      "500/500 [==============================] - 807s 2s/step - loss: 0.2303 - val_loss: 0.3048\n",
      "Epoch 19/40\n",
      "500/500 [==============================] - 817s 2s/step - loss: 0.2265 - val_loss: 0.3083\n",
      "Epoch 20/40\n",
      "500/500 [==============================] - 834s 2s/step - loss: 0.2245 - val_loss: 0.3072\n",
      "Epoch 21/40\n",
      "500/500 [==============================] - 819s 2s/step - loss: 0.2215 - val_loss: 0.3017\n",
      "Epoch 22/40\n",
      "500/500 [==============================] - 814s 2s/step - loss: 0.2188 - val_loss: 0.3116\n",
      "Epoch 23/40\n",
      "500/500 [==============================] - 794s 2s/step - loss: 0.2132 - val_loss: 0.3030\n",
      "Epoch 25/40\n",
      "500/500 [==============================] - 795s 2s/step - loss: 0.2116 - val_loss: 0.3264\n",
      "Epoch 26/40\n",
      "500/500 [==============================] - 803s 2s/step - loss: 0.2072 - val_loss: 0.2999\n",
      "Epoch 28/40\n",
      "500/500 [==============================] - 802s 2s/step - loss: 0.2047 - val_loss: 0.3259\n",
      "Epoch 29/40\n",
      "500/500 [==============================] - 792s 2s/step - loss: 0.2022 - val_loss: 0.3284\n",
      "Epoch 30/40\n",
      "500/500 [==============================] - 792s 2s/step - loss: 0.2003 - val_loss: 0.3094\n",
      "Epoch 31/40\n",
      "500/500 [==============================] - 799s 2s/step - loss: 0.1995 - val_loss: 0.3367\n",
      "Epoch 32/40\n",
      "500/500 [==============================] - 795s 2s/step - loss: 0.1973 - val_loss: 0.3222\n",
      "Epoch 33/40\n",
      "500/500 [==============================] - 789s 2s/step - loss: 0.1954 - val_loss: 0.3209\n",
      "Epoch 34/40\n",
      "500/500 [==============================] - 791s 2s/step - loss: 0.1953 - val_loss: 0.3363\n",
      "Epoch 35/40\n",
      "488/500 [============================>.] - ETA: 15s - loss: 0.1939"
     ]
    },
    {
     "name": "stderr",
     "output_type": "stream",
     "text": [
      "IOPub message rate exceeded.\n",
      "The Jupyter server will temporarily stop sending output\n",
      "to the client in order to avoid crashing it.\n",
      "To change this limit, set the config variable\n",
      "`--ServerApp.iopub_msg_rate_limit`.\n",
      "\n",
      "Current values:\n",
      "ServerApp.iopub_msg_rate_limit=1000.0 (msgs/sec)\n",
      "ServerApp.rate_limit_window=3.0 (secs)\n",
      "\n"
     ]
    }
   ],
   "source": [
    "from keras.models import Sequential\n",
    "from keras import layers\n",
    "from keras.optimizers import RMSprop\n",
    "\n",
    "\n",
    "model = Sequential()\n",
    "model.add(layers.GRU(32,\n",
    "                     dropout=0.1,\n",
    "                     recurrent_dropout=0.5,\n",
    "                     return_sequences=True,\n",
    "                     input_shape=(None, float_data.shape[-1])))\n",
    "model.add(layers.GRU(64, activation='relu',\n",
    "                     dropout=0.1,\n",
    "                     recurrent_dropout=0.5))\n",
    "model.add(layers.Dense(1))\n",
    "model.compile(optimizer=RMSprop(), loss='mae')\n",
    "history = model.fit_generator(train_gen,\n",
    "                              steps_per_epoch=500,\n",
    "                              epochs=40,\n",
    "                              validation_data=val_gen,\n",
    "                              validation_steps=val_steps)"
   ]
  },
  {
   "cell_type": "code",
   "execution_count": 24,
   "id": "a30a1a23-4f6e-49e5-bdd0-21bc23c707d7",
   "metadata": {},
   "outputs": [
    {
     "data": {
      "image/png": "[encoded data removed]",
      "text/plain": [
       "<Figure size 432x288 with 1 Axes>"
      ]
     },
     "metadata": {
      "needs_background": "light"
     },
     "output_type": "display_data"
    }
   ],
   "source": [
    "loss = history.history['loss']\n",
    "val_loss = history.history['val_loss']\n",
    "epochs = range(1, len(loss) + 1)\n",
    "plt.figure()\n",
    "plt.plot(epochs, loss, 'bo', label='Training loss')\n",
    "plt.plot(epochs, val_loss, 'b', label='Validation loss')\n",
    "plt.title('Training and validation loss')\n",
    "plt.legend()\n",
    "plt.show()"
   ]
  },
  {
   "cell_type": "code",
   "execution_count": null,
   "id": "66847f84-52bb-49f8-b489-32d2a0b6468f",
   "metadata": {},
   "outputs": [],
   "source": [
    "# Using bidirectional RNNs\n",
    "# A bidirectional RNN is a common RNN variant \n",
    "# that can offer greater performance than a regular RNN on certain tasks. \n",
    "# It’s frequently used in natural-language processing—you could call it \n",
    "# the Swiss Army knife of deep learning for natural-language processing."
   ]
  },
  {
   "cell_type": "code",
   "execution_count": 25,
   "id": "96cea8c3-6014-4409-928d-7a7fad0c81e2",
   "metadata": {},
   "outputs": [
    {
     "name": "stdout",
     "output_type": "stream",
     "text": [
      "Epoch 1/10\n",
      "157/157 [==============================] - 118s 742ms/step - loss: 0.5045 - acc: 0.7595 - val_loss: 0.7399 - val_acc: 0.7252\n",
      "Epoch 2/10\n",
      "157/157 [==============================] - 112s 714ms/step - loss: 0.3192 - acc: 0.8792 - val_loss: 0.3225 - val_acc: 0.8694\n",
      "Epoch 3/10\n",
      "157/157 [==============================] - 116s 739ms/step - loss: 0.2614 - acc: 0.9042 - val_loss: 0.3178 - val_acc: 0.8704\n",
      "Epoch 4/10\n",
      "157/157 [==============================] - 122s 775ms/step - loss: 0.2192 - acc: 0.9196 - val_loss: 0.4530 - val_acc: 0.8362\n",
      "Epoch 5/10\n",
      "157/157 [==============================] - 118s 754ms/step - loss: 0.1959 - acc: 0.9305 - val_loss: 0.3427 - val_acc: 0.8686\n",
      "Epoch 6/10\n",
      "157/157 [==============================] - 124s 788ms/step - loss: 0.1777 - acc: 0.9376 - val_loss: 0.3452 - val_acc: 0.8754\n",
      "Epoch 7/10\n",
      "157/157 [==============================] - 114s 729ms/step - loss: 0.1596 - acc: 0.9451 - val_loss: 0.5898 - val_acc: 0.7894\n",
      "Epoch 8/10\n",
      "157/157 [==============================] - 117s 743ms/step - loss: 0.1451 - acc: 0.9516 - val_loss: 0.3890 - val_acc: 0.8692\n",
      "Epoch 9/10\n",
      "157/157 [==============================] - 113s 722ms/step - loss: 0.1354 - acc: 0.9538 - val_loss: 0.4487 - val_acc: 0.8688\n",
      "Epoch 10/10\n",
      "157/157 [==============================] - 106s 678ms/step - loss: 0.1309 - acc: 0.9553 - val_loss: 0.4725 - val_acc: 0.8704\n"
     ]
    }
   ],
   "source": [
    "from keras.datasets import imdb\n",
    "from keras.utils.data_utils import pad_sequences\n",
    "from keras import layers\n",
    "from keras.models import Sequential\n",
    "\n",
    "\n",
    "max_features = 10000\n",
    "maxlen = 500\n",
    "(x_train, y_train), (x_test, y_test) = imdb.load_data(num_words=max_features)\n",
    "x_train = [x[::-1] for x in x_train]\n",
    "x_test = [x[::-1] for x in x_test]\n",
    "x_train = pad_sequences(x_train, maxlen=maxlen)\n",
    "x_test = pad_sequences(x_test, maxlen=maxlen)\n",
    "model = Sequential()\n",
    "model.add(layers.Embedding(max_features, 128))\n",
    "model.add(layers.LSTM(32))\n",
    "model.add(layers.Dense(1, activation='sigmoid'))\n",
    "model.compile(optimizer='rmsprop',\n",
    "              loss='binary_crossentropy',\n",
    "              metrics=['acc'])\n",
    "history = model.fit(x_train, y_train,\n",
    "                    epochs=10,\n",
    "                    batch_size=128,\n",
    "                    validation_split=0.2)"
   ]
  },
  {
   "cell_type": "code",
   "execution_count": 26,
   "id": "2dd791b4-8d4d-4fe3-b5ce-db71bdac212d",
   "metadata": {},
   "outputs": [
    {
     "data": {
      "image/png": "[encoded data removed]",
      "text/plain": [
       "<Figure size 432x288 with 1 Axes>"
      ]
     },
     "metadata": {
      "needs_background": "light"
     },
     "output_type": "display_data"
    }
   ],
   "source": [
    "loss = history.history['loss']\n",
    "val_loss = history.history['val_loss']\n",
    "epochs = range(1, len(loss) + 1)\n",
    "plt.figure()\n",
    "plt.plot(epochs, loss, 'bo', label='Training loss')\n",
    "plt.plot(epochs, val_loss, 'b', label='Validation loss')\n",
    "plt.title('Training and validation loss')\n",
    "plt.legend()\n",
    "plt.show()"
   ]
  },
  {
   "cell_type": "code",
   "execution_count": null,
   "id": "47432f5f-48ad-4ab6-b78a-d6e5c4be1960",
   "metadata": {},
   "outputs": [],
   "source": [
    "# A bidirectional RNN exploits this idea to improve on the performance of chronological-order RNNs. \n",
    "# It looks at its input sequence both ways (see figure 6.25), obtaining potentially richer representations \n",
    "# and capturing patterns that may have been missed by the chronological-order version alone."
   ]
  },
  {
   "cell_type": "code",
   "execution_count": 27,
   "id": "871966ea-1e4f-4bf1-b540-d5ee82b031ae",
   "metadata": {},
   "outputs": [
    {
     "name": "stdout",
     "output_type": "stream",
     "text": [
      "Epoch 1/10\n",
      "157/157 [==============================] - 179s 1s/step - loss: 0.5378 - acc: 0.7279 - val_loss: 0.4683 - val_acc: 0.7892\n",
      "Epoch 2/10\n",
      "157/157 [==============================] - 188s 1s/step - loss: 0.3256 - acc: 0.8745 - val_loss: 0.3354 - val_acc: 0.8652\n",
      "Epoch 3/10\n",
      "157/157 [==============================] - 177s 1s/step - loss: 0.2658 - acc: 0.9022 - val_loss: 0.2985 - val_acc: 0.8854\n",
      "Epoch 4/10\n",
      "157/157 [==============================] - 166s 1s/step - loss: 0.2224 - acc: 0.9191 - val_loss: 0.3083 - val_acc: 0.8802\n",
      "Epoch 5/10\n",
      "157/157 [==============================] - 179s 1s/step - loss: 0.2039 - acc: 0.9248 - val_loss: 0.3517 - val_acc: 0.8516\n",
      "Epoch 6/10\n",
      "157/157 [==============================] - 177s 1s/step - loss: 0.1733 - acc: 0.9402 - val_loss: 0.7888 - val_acc: 0.8162\n",
      "Epoch 7/10\n",
      "157/157 [==============================] - 182s 1s/step - loss: 0.1607 - acc: 0.9464 - val_loss: 0.4359 - val_acc: 0.8706\n",
      "Epoch 8/10\n",
      "157/157 [==============================] - 181s 1s/step - loss: 0.1533 - acc: 0.9485 - val_loss: 0.3448 - val_acc: 0.8588\n",
      "Epoch 9/10\n",
      "157/157 [==============================] - 185s 1s/step - loss: 0.1413 - acc: 0.9520 - val_loss: 0.4108 - val_acc: 0.8700\n",
      "Epoch 10/10\n",
      "157/157 [==============================] - 179s 1s/step - loss: 0.1313 - acc: 0.9566 - val_loss: 0.3524 - val_acc: 0.8674\n"
     ]
    }
   ],
   "source": [
    "model = Sequential()\n",
    "model.add(layers.Embedding(max_features, 32))\n",
    "model.add(layers.Bidirectional(layers.LSTM(32)))\n",
    "model.add(layers.Dense(1, activation='sigmoid'))\n",
    "model.compile(optimizer='rmsprop', loss='binary_crossentropy', metrics=['acc'])\n",
    "history = model.fit(x_train, y_train,\n",
    "                    epochs=10,\n",
    "                    batch_size=128,\n",
    "                    validation_split=0.2)"
   ]
  },
  {
   "cell_type": "code",
   "execution_count": 28,
   "id": "d9acd82c-8333-42d7-8ebe-e7c6f1932756",
   "metadata": {},
   "outputs": [
    {
     "data": {
      "image/png": "[encoded data removed]",
      "text/plain": [
       "<Figure size 432x288 with 1 Axes>"
      ]
     },
     "metadata": {
      "needs_background": "light"
     },
     "output_type": "display_data"
    }
   ],
   "source": [
    "loss = history.history['loss']\n",
    "val_loss = history.history['val_loss']\n",
    "epochs = range(1, len(loss) + 1)\n",
    "plt.figure()\n",
    "plt.plot(epochs, loss, 'bo', label='Training loss')\n",
    "plt.plot(epochs, val_loss, 'b', label='Validation loss')\n",
    "plt.title('Training and validation loss')\n",
    "plt.legend()\n",
    "plt.show()"
   ]
  },
  {
   "cell_type": "code",
   "execution_count": 29,
   "id": "846ec4b9-9061-43b1-8538-97a1faf5e255",
   "metadata": {},
   "outputs": [
    {
     "name": "stdout",
     "output_type": "stream",
     "text": [
      "Epoch 1/40\n"
     ]
    },
    {
     "name": "stderr",
     "output_type": "stream",
     "text": [
      "/tmp/ipykernel_246330/2505144191.py:11: UserWarning: `Model.fit_generator` is deprecated and will be removed in a future version. Please use `Model.fit`, which supports generators.\n",
      "  history = model.fit_generator(train_gen,\n"
     ]
    },
    {
     "name": "stdout",
     "output_type": "stream",
     "text": [
      "500/500 [==============================] - 300s 595ms/step - loss: 0.2914 - val_loss: 0.2616\n",
      "Epoch 2/40\n",
      "500/500 [==============================] - 300s 601ms/step - loss: 0.2771 - val_loss: 0.2712\n",
      "Epoch 3/40\n",
      "500/500 [==============================] - 302s 604ms/step - loss: 0.2720 - val_loss: 0.2784\n",
      "Epoch 4/40\n",
      "500/500 [==============================] - 299s 598ms/step - loss: 0.2679 - val_loss: 0.2574\n",
      "Epoch 5/40\n",
      "500/500 [==============================] - 303s 606ms/step - loss: 0.2614 - val_loss: 0.2616\n",
      "Epoch 6/40\n",
      "500/500 [==============================] - 308s 616ms/step - loss: 0.2557 - val_loss: 0.2776\n",
      "Epoch 7/40\n",
      "500/500 [==============================] - 289s 579ms/step - loss: 0.2512 - val_loss: 0.2551\n",
      "Epoch 8/40\n",
      "500/500 [==============================] - 306s 612ms/step - loss: 0.2444 - val_loss: 0.2713\n",
      "Epoch 9/40\n",
      "500/500 [==============================] - 298s 596ms/step - loss: 0.2364 - val_loss: 0.2845\n",
      "Epoch 10/40\n",
      "500/500 [==============================] - 289s 579ms/step - loss: 0.2320 - val_loss: 0.2674\n",
      "Epoch 11/40\n",
      "500/500 [==============================] - 304s 608ms/step - loss: 0.2233 - val_loss: 0.2817\n",
      "Epoch 12/40\n",
      "500/500 [==============================] - 289s 578ms/step - loss: 0.2169 - val_loss: 0.2946\n",
      "Epoch 13/40\n",
      "500/500 [==============================] - 304s 608ms/step - loss: 0.2106 - val_loss: 0.2889\n",
      "Epoch 14/40\n",
      "500/500 [==============================] - 295s 590ms/step - loss: 0.2041 - val_loss: 0.3076\n",
      "Epoch 15/40\n",
      "500/500 [==============================] - 295s 590ms/step - loss: 0.1996 - val_loss: 0.3067\n",
      "Epoch 16/40\n",
      "500/500 [==============================] - 298s 596ms/step - loss: 0.1891 - val_loss: 0.3155\n",
      "Epoch 18/40\n",
      "500/500 [==============================] - 303s 607ms/step - loss: 0.1838 - val_loss: 0.3171\n",
      "Epoch 19/40\n",
      "500/500 [==============================] - 302s 605ms/step - loss: 0.1799 - val_loss: 0.3135\n",
      "Epoch 20/40\n",
      "500/500 [==============================] - 327s 655ms/step - loss: 0.1757 - val_loss: 0.3206\n",
      "Epoch 21/40\n",
      "500/500 [==============================] - 307s 615ms/step - loss: 0.1726 - val_loss: 0.3231\n",
      "Epoch 22/40\n",
      "500/500 [==============================] - 301s 603ms/step - loss: 0.1687 - val_loss: 0.3274\n",
      "Epoch 23/40\n",
      "500/500 [==============================] - 311s 622ms/step - loss: 0.1656 - val_loss: 0.3336\n",
      "Epoch 24/40\n",
      "500/500 [==============================] - 302s 604ms/step - loss: 0.1627 - val_loss: 0.3194\n",
      "Epoch 25/40\n",
      "500/500 [==============================] - 287s 575ms/step - loss: 0.1609 - val_loss: 0.3237\n",
      "Epoch 26/40\n",
      "500/500 [==============================] - 290s 580ms/step - loss: 0.1567 - val_loss: 0.3355\n",
      "Epoch 27/40\n",
      "500/500 [==============================] - 301s 603ms/step - loss: 0.1559 - val_loss: 0.3180\n",
      "Epoch 28/40\n",
      "500/500 [==============================] - 293s 585ms/step - loss: 0.1528 - val_loss: 0.3395\n",
      "Epoch 29/40\n",
      "500/500 [==============================] - 305s 611ms/step - loss: 0.1512 - val_loss: 0.3384\n",
      "Epoch 30/40\n",
      "500/500 [==============================] - 297s 593ms/step - loss: 0.1501 - val_loss: 0.3120\n",
      "Epoch 31/40\n",
      "500/500 [==============================] - 302s 605ms/step - loss: 0.1477 - val_loss: 0.3436\n",
      "Epoch 32/40\n",
      "500/500 [==============================] - 305s 611ms/step - loss: 0.1461 - val_loss: 0.3362\n",
      "Epoch 33/40\n",
      "500/500 [==============================] - 295s 591ms/step - loss: 0.1442 - val_loss: 0.3252\n",
      "Epoch 34/40\n",
      "500/500 [==============================] - 302s 605ms/step - loss: 0.1413 - val_loss: 0.3463\n",
      "Epoch 35/40\n",
      "500/500 [==============================] - 315s 630ms/step - loss: 0.1401 - val_loss: 0.3429\n",
      "Epoch 36/40\n",
      "500/500 [==============================] - 309s 618ms/step - loss: 0.1383 - val_loss: 0.3309\n",
      "Epoch 37/40\n",
      "500/500 [==============================] - 301s 602ms/step - loss: 0.1385 - val_loss: 0.3377\n",
      "Epoch 38/40\n",
      "500/500 [==============================] - 309s 619ms/step - loss: 0.1367 - val_loss: 0.3373\n",
      "Epoch 39/40\n",
      "500/500 [==============================] - 304s 609ms/step - loss: 0.1353 - val_loss: 0.3412\n",
      "Epoch 40/40\n",
      "500/500 [==============================] - 303s 605ms/step - loss: 0.1344 - val_loss: 0.3382\n"
     ]
    }
   ],
   "source": [
    "from keras.models import Sequential\n",
    "from keras import layers\n",
    "from keras.optimizers import RMSprop\n",
    "\n",
    "\n",
    "model = Sequential()\n",
    "model.add(layers.Bidirectional(\n",
    "layers.GRU(32), input_shape=(None, float_data.shape[-1])))\n",
    "model.add(layers.Dense(1))\n",
    "model.compile(optimizer=RMSprop(), loss='mae')\n",
    "history = model.fit_generator(train_gen,\n",
    "                              steps_per_epoch=500,\n",
    "                              epochs=40,\n",
    "                              validation_data=val_gen,\n",
    "                              validation_steps=val_steps)"
   ]
  },
  {
   "cell_type": "code",
   "execution_count": 30,
   "id": "7dc6a215-6d5e-41e8-b337-55e22e66f214",
   "metadata": {},
   "outputs": [
    {
     "data": {
      "image/png": "[encoded data removed]",
      "text/plain": [
       "<Figure size 432x288 with 1 Axes>"
      ]
     },
     "metadata": {
      "needs_background": "light"
     },
     "output_type": "display_data"
    }
   ],
   "source": [
    "loss = history.history['loss']\n",
    "val_loss = history.history['val_loss']\n",
    "epochs = range(1, len(loss) + 1)\n",
    "plt.figure()\n",
    "plt.plot(epochs, loss, 'bo', label='Training loss')\n",
    "plt.plot(epochs, val_loss, 'b', label='Validation loss')\n",
    "plt.title('Training and validation loss')\n",
    "plt.legend()\n",
    "plt.show()"
   ]
  }
 ],
 "metadata": {
  "kernelspec": {
   "display_name": "Python 3 (ipykernel)",
   "language": "python",
   "name": "python3"
  },
  "language_info": {
   "codemirror_mode": {
    "name": "ipython",
    "version": 3
   },
   "file_extension": ".py",
   "mimetype": "text/x-python",
   "name": "python",
   "nbconvert_exporter": "python",
   "pygments_lexer": "ipython3",
   "version": "3.10.5"
  }
 },
 "nbformat": 4,
 "nbformat_minor": 5
}
