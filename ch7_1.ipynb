{
 "cells": [
  {
   "cell_type": "code",
   "execution_count": null,
   "id": "61caf966-b215-4f64-b217-994185637800",
   "metadata": {},
   "outputs": [],
   "source": [
    "# Going beyond the Sequential model: the Keras functional API"
   ]
  },
  {
   "cell_type": "code",
   "execution_count": null,
   "id": "9c83f2ee-feba-43d7-9e62-a3666093b039",
   "metadata": {},
   "outputs": [],
   "source": [
    "# In the functional API, you directly manipulate tensors, \n",
    "# and you use layers as functions that take tensors and return tensors (hence, the name functional API)"
   ]
  },
  {
   "cell_type": "code",
   "execution_count": null,
   "id": "d8b75ada-5dcb-4d43-9424-a4c07260a718",
   "metadata": {},
   "outputs": [],
   "source": [
    "# Multi-output models\n",
    "\n",
    "# Importantly, training such a model requires the ability \n",
    "# to specify different loss functions for different heads of the network\n",
    "\n",
    "# Note that very imbalanced loss contributions will cause the model representations to be optimized preferentially \n",
    "# for the task with the largest individual loss, at the expense of the other tasks. \n",
    "# To remedy this, you can assign different levels of importance to the\\ loss values \n",
    "# in their contribution to the final loss."
   ]
  },
  {
   "cell_type": "code",
   "execution_count": null,
   "id": "2ffda00f-6933-40d8-9832-ca65de5e84ce",
   "metadata": {},
   "outputs": [],
   "source": [
    "# Layer weight sharing"
   ]
  },
  {
   "cell_type": "code",
   "execution_count": null,
   "id": "6b33896a-acb3-45f8-a517-9c1ecfe8db1b",
   "metadata": {},
   "outputs": [],
   "source": [
    "# Models as layers"
   ]
  }
 ],
 "metadata": {
  "kernelspec": {
   "display_name": "Python 3 (ipykernel)",
   "language": "python",
   "name": "python3"
  },
  "language_info": {
   "codemirror_mode": {
    "name": "ipython",
    "version": 3
   },
   "file_extension": ".py",
   "mimetype": "text/x-python",
   "name": "python",
   "nbconvert_exporter": "python",
   "pygments_lexer": "ipython3",
   "version": "3.10.5"
  }
 },
 "nbformat": 4,
 "nbformat_minor": 5
}
